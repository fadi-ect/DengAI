{
  "cells": [
    {
      "cell_type": "markdown",
      "source": "# Import librairies",
      "metadata": {
        "tags": [],
        "cell_id": "00000-5a3b5f83-bf54-48be-a684-4370cad544cc",
        "deepnote_cell_type": "markdown"
      }
    },
    {
      "cell_type": "code",
      "metadata": {
        "tags": [],
        "cell_id": "00000-9e43dce6-2302-4cc7-bf44-8174b28f561b",
        "deepnote_to_be_reexecuted": false,
        "source_hash": "c0f52882",
        "execution_millis": 6935,
        "execution_start": 1619635560673,
        "deepnote_cell_type": "code"
      },
      "source": "import pandas as pd\nimport numpy as np\nfrom matplotlib import pyplot as plt\nimport seaborn as sns\nfrom sklearn.metrics import classification_report , confusion_matrix , accuracy_score\nfrom sklearn.preprocessing import StandardScaler\nfrom sklearn.model_selection import cross_val_score\nfrom sklearn.ensemble import RandomForestRegressor\nfrom sklearn.model_selection import cross_validate\nfrom sklearn.model_selection import train_test_split\nfrom matplotlib import pyplot as plt\nfrom sklearn.decomposition import PCA\nfrom pandas import concat\nfrom sklearn.preprocessing import LabelEncoder\nfrom sklearn.preprocessing import MinMaxScaler\n\nimport itertools as I\nimport math\n\nfrom sklearn.metrics import mean_squared_error\n\n# keras\nfrom keras.models import Sequential\nfrom keras.layers import Dense\nfrom keras.layers import LSTM\nfrom keras.layers import Dropout\nimport keras.layers as L\nimport keras.models as M\nimport keras.optimizers as O\nfrom keras.preprocessing import sequence as S\nfrom pandas import DataFrame",
      "outputs": [],
      "execution_count": null
    },
    {
      "cell_type": "markdown",
      "source": "# Loading Dataset",
      "metadata": {
        "tags": [],
        "cell_id": "00002-247ed34b-2d94-433d-bb61-f80729de90e7",
        "deepnote_cell_type": "markdown"
      }
    },
    {
      "cell_type": "code",
      "metadata": {
        "tags": [],
        "cell_id": "00002-ddfb48a6-f2f9-4089-b21d-a227babba5ba",
        "deepnote_to_be_reexecuted": false,
        "source_hash": "b8d92a31",
        "execution_millis": 32,
        "execution_start": 1619635567612,
        "deepnote_cell_type": "code"
      },
      "source": "train_features = pd.read_csv('/work/dengue_features_train.csv', index_col=[0,1,2]) #index_col refer to city, year, weekofyear\ntrain_labels = pd.read_csv('/work/dengue_labels_train.csv', index_col=[0,1,2])",
      "outputs": [],
      "execution_count": null
    },
    {
      "cell_type": "code",
      "metadata": {
        "tags": [],
        "cell_id": "00003-a7338dae-5610-46f5-b083-5295a106d9af",
        "deepnote_to_be_reexecuted": false,
        "source_hash": "8d758eda",
        "execution_millis": 4,
        "execution_start": 1619635567664,
        "deepnote_cell_type": "code"
      },
      "source": "# Seperate data for San Juan\nsj_train_features = train_features.loc['sj']\nsj_train_labels = train_labels.loc['sj']\n\n# Separate data for Iquitos\niq_train_features = train_features.loc['iq']\niq_train_labels = train_labels.loc['iq']",
      "outputs": [],
      "execution_count": null
    },
    {
      "cell_type": "code",
      "metadata": {
        "tags": [],
        "cell_id": "00004-7f334433-4e6b-48fe-b304-0ec3cb3e1b91",
        "deepnote_to_be_reexecuted": false,
        "source_hash": "50203e68",
        "execution_millis": 22,
        "execution_start": 1619635567672,
        "deepnote_cell_type": "code"
      },
      "source": "print('San Juan')\nprint('features: ', sj_train_features.shape)\nprint('labels  : ', sj_train_labels.shape)\n\nprint('\\nIquitos')\nprint('features: ', iq_train_features.shape)\nprint('labels  : ', iq_train_labels.shape)",
      "outputs": [
        {
          "name": "stdout",
          "text": "San Juan\nfeatures:  (936, 21)\nlabels  :  (936, 1)\n\nIquitos\nfeatures:  (520, 21)\nlabels  :  (520, 1)\n",
          "output_type": "stream"
        }
      ],
      "execution_count": null
    },
    {
      "cell_type": "code",
      "metadata": {
        "tags": [],
        "cell_id": "00005-5af46576-a224-493a-b52c-b2ea9506a2c8",
        "deepnote_to_be_reexecuted": false,
        "source_hash": "a0d332e9",
        "execution_millis": 107,
        "execution_start": 1619635567679,
        "deepnote_cell_type": "code"
      },
      "source": "sj_train_features.head()",
      "outputs": [
        {
          "output_type": "execute_result",
          "execution_count": 5,
          "data": {
            "application/vnd.deepnote.dataframe.v2+json": {
              "row_count": 5,
              "column_count": 21,
              "columns": [
                {
                  "name": "week_start_date",
                  "dtype": "object",
                  "stats": {
                    "unique_count": 5,
                    "nan_count": 0,
                    "categories": [
                      {
                        "name": "1990-04-30",
                        "count": 1
                      },
                      {
                        "name": "1990-05-07",
                        "count": 1
                      },
                      {
                        "name": "3 others",
                        "count": 3
                      }
                    ]
                  }
                },
                {
                  "name": "ndvi_ne",
                  "dtype": "float64",
                  "stats": {
                    "unique_count": 5,
                    "nan_count": 0,
                    "min": "0.03225",
                    "max": "0.1962",
                    "histogram": [
                      {
                        "bin_start": 0.03225,
                        "bin_end": 0.048645,
                        "count": 1
                      },
                      {
                        "bin_start": 0.048645,
                        "bin_end": 0.06504,
                        "count": 0
                      },
                      {
                        "bin_start": 0.06504,
                        "bin_end": 0.08143500000000001,
                        "count": 0
                      },
                      {
                        "bin_start": 0.08143500000000001,
                        "bin_end": 0.09783,
                        "count": 0
                      },
                      {
                        "bin_start": 0.09783,
                        "bin_end": 0.114225,
                        "count": 0
                      },
                      {
                        "bin_start": 0.114225,
                        "bin_end": 0.13062,
                        "count": 2
                      },
                      {
                        "bin_start": 0.13062,
                        "bin_end": 0.147015,
                        "count": 0
                      },
                      {
                        "bin_start": 0.147015,
                        "bin_end": 0.16341,
                        "count": 0
                      },
                      {
                        "bin_start": 0.16341,
                        "bin_end": 0.179805,
                        "count": 1
                      },
                      {
                        "bin_start": 0.179805,
                        "bin_end": 0.1962,
                        "count": 1
                      }
                    ]
                  }
                },
                {
                  "name": "ndvi_nw",
                  "dtype": "float64",
                  "stats": {
                    "unique_count": 5,
                    "nan_count": 0,
                    "min": "0.103725",
                    "max": "0.2622",
                    "histogram": [
                      {
                        "bin_start": 0.103725,
                        "bin_end": 0.1195725,
                        "count": 1
                      },
                      {
                        "bin_start": 0.1195725,
                        "bin_end": 0.13541999999999998,
                        "count": 0
                      },
                      {
                        "bin_start": 0.13541999999999998,
                        "bin_end": 0.1512675,
                        "count": 1
                      },
                      {
                        "bin_start": 0.1512675,
                        "bin_end": 0.16711499999999999,
                        "count": 0
                      },
                      {
                        "bin_start": 0.16711499999999999,
                        "bin_end": 0.18296249999999997,
                        "count": 1
                      },
                      {
                        "bin_start": 0.18296249999999997,
                        "bin_end": 0.19881,
                        "count": 0
                      },
                      {
                        "bin_start": 0.19881,
                        "bin_end": 0.21465749999999997,
                        "count": 0
                      },
                      {
                        "bin_start": 0.21465749999999997,
                        "bin_end": 0.23050499999999996,
                        "count": 0
                      },
                      {
                        "bin_start": 0.23050499999999996,
                        "bin_end": 0.24635249999999997,
                        "count": 1
                      },
                      {
                        "bin_start": 0.24635249999999997,
                        "bin_end": 0.2622,
                        "count": 1
                      }
                    ]
                  }
                },
                {
                  "name": "ndvi_se",
                  "dtype": "float64",
                  "stats": {
                    "unique_count": 5,
                    "nan_count": 0,
                    "min": "0.1572",
                    "max": "0.2512",
                    "histogram": [
                      {
                        "bin_start": 0.1572,
                        "bin_end": 0.1666,
                        "count": 2
                      },
                      {
                        "bin_start": 0.1666,
                        "bin_end": 0.176,
                        "count": 0
                      },
                      {
                        "bin_start": 0.176,
                        "bin_end": 0.1854,
                        "count": 0
                      },
                      {
                        "bin_start": 0.1854,
                        "bin_end": 0.1948,
                        "count": 0
                      },
                      {
                        "bin_start": 0.1948,
                        "bin_end": 0.2042,
                        "count": 1
                      },
                      {
                        "bin_start": 0.2042,
                        "bin_end": 0.21359999999999998,
                        "count": 0
                      },
                      {
                        "bin_start": 0.21359999999999998,
                        "bin_end": 0.22299999999999998,
                        "count": 0
                      },
                      {
                        "bin_start": 0.22299999999999998,
                        "bin_end": 0.2324,
                        "count": 1
                      },
                      {
                        "bin_start": 0.2324,
                        "bin_end": 0.24179999999999996,
                        "count": 0
                      },
                      {
                        "bin_start": 0.24179999999999996,
                        "bin_end": 0.2512,
                        "count": 1
                      }
                    ]
                  }
                },
                {
                  "name": "ndvi_sw",
                  "dtype": "float64",
                  "stats": {
                    "unique_count": 5,
                    "nan_count": 0,
                    "min": "0.1554857",
                    "max": "0.24734",
                    "histogram": [
                      {
                        "bin_start": 0.1554857,
                        "bin_end": 0.16467113,
                        "count": 1
                      },
                      {
                        "bin_start": 0.16467113,
                        "bin_end": 0.17385656,
                        "count": 1
                      },
                      {
                        "bin_start": 0.17385656,
                        "bin_end": 0.18304199,
                        "count": 1
                      },
                      {
                        "bin_start": 0.18304199,
                        "bin_end": 0.19222742,
                        "count": 0
                      },
                      {
                        "bin_start": 0.19222742,
                        "bin_end": 0.20141285,
                        "count": 0
                      },
                      {
                        "bin_start": 0.20141285,
                        "bin_end": 0.21059828,
                        "count": 0
                      },
                      {
                        "bin_start": 0.21059828,
                        "bin_end": 0.21978371000000002,
                        "count": 0
                      },
                      {
                        "bin_start": 0.21978371000000002,
                        "bin_end": 0.22896914000000002,
                        "count": 0
                      },
                      {
                        "bin_start": 0.22896914000000002,
                        "bin_end": 0.23815457,
                        "count": 1
                      },
                      {
                        "bin_start": 0.23815457,
                        "bin_end": 0.24734,
                        "count": 1
                      }
                    ]
                  }
                },
                {
                  "name": "precipitation_amt_mm",
                  "dtype": "float64",
                  "stats": {
                    "unique_count": 5,
                    "nan_count": 0,
                    "min": "7.52",
                    "max": "34.54",
                    "histogram": [
                      {
                        "bin_start": 7.52,
                        "bin_end": 10.222,
                        "count": 1
                      },
                      {
                        "bin_start": 10.222,
                        "bin_end": 12.924,
                        "count": 1
                      },
                      {
                        "bin_start": 12.924,
                        "bin_end": 15.626,
                        "count": 1
                      },
                      {
                        "bin_start": 15.626,
                        "bin_end": 18.328,
                        "count": 0
                      },
                      {
                        "bin_start": 18.328,
                        "bin_end": 21.03,
                        "count": 0
                      },
                      {
                        "bin_start": 21.03,
                        "bin_end": 23.732,
                        "count": 1
                      },
                      {
                        "bin_start": 23.732,
                        "bin_end": 26.434,
                        "count": 0
                      },
                      {
                        "bin_start": 26.434,
                        "bin_end": 29.136,
                        "count": 0
                      },
                      {
                        "bin_start": 29.136,
                        "bin_end": 31.837999999999997,
                        "count": 0
                      },
                      {
                        "bin_start": 31.837999999999997,
                        "bin_end": 34.54,
                        "count": 1
                      }
                    ]
                  }
                },
                {
                  "name": "reanalysis_air_temp_k",
                  "dtype": "float64",
                  "stats": {
                    "unique_count": 5,
                    "nan_count": 0,
                    "min": "297.572857143",
                    "max": "299.518571429",
                    "histogram": [
                      {
                        "bin_start": 297.572857143,
                        "bin_end": 297.7674285716,
                        "count": 1
                      },
                      {
                        "bin_start": 297.7674285716,
                        "bin_end": 297.9620000002,
                        "count": 0
                      },
                      {
                        "bin_start": 297.9620000002,
                        "bin_end": 298.1565714288,
                        "count": 0
                      },
                      {
                        "bin_start": 298.1565714288,
                        "bin_end": 298.3511428574,
                        "count": 1
                      },
                      {
                        "bin_start": 298.3511428574,
                        "bin_end": 298.545714286,
                        "count": 0
                      },
                      {
                        "bin_start": 298.545714286,
                        "bin_end": 298.7402857146,
                        "count": 0
                      },
                      {
                        "bin_start": 298.7402857146,
                        "bin_end": 298.9348571432,
                        "count": 1
                      },
                      {
                        "bin_start": 298.9348571432,
                        "bin_end": 299.1294285718,
                        "count": 1
                      },
                      {
                        "bin_start": 299.1294285718,
                        "bin_end": 299.3240000004,
                        "count": 0
                      },
                      {
                        "bin_start": 299.3240000004,
                        "bin_end": 299.518571429,
                        "count": 1
                      }
                    ]
                  }
                },
                {
                  "name": "reanalysis_avg_temp_k",
                  "dtype": "float64",
                  "stats": {
                    "unique_count": 5,
                    "nan_count": 0,
                    "min": "297.742857143",
                    "max": "299.664285714",
                    "histogram": [
                      {
                        "bin_start": 297.742857143,
                        "bin_end": 297.9350000001,
                        "count": 1
                      },
                      {
                        "bin_start": 297.9350000001,
                        "bin_end": 298.1271428572,
                        "count": 0
                      },
                      {
                        "bin_start": 298.1271428572,
                        "bin_end": 298.3192857143,
                        "count": 0
                      },
                      {
                        "bin_start": 298.3192857143,
                        "bin_end": 298.5114285714,
                        "count": 1
                      },
                      {
                        "bin_start": 298.5114285714,
                        "bin_end": 298.7035714285,
                        "count": 0
                      },
                      {
                        "bin_start": 298.7035714285,
                        "bin_end": 298.8957142856,
                        "count": 1
                      },
                      {
                        "bin_start": 298.8957142856,
                        "bin_end": 299.0878571427,
                        "count": 0
                      },
                      {
                        "bin_start": 299.0878571427,
                        "bin_end": 299.2799999998,
                        "count": 1
                      },
                      {
                        "bin_start": 299.2799999998,
                        "bin_end": 299.4721428569,
                        "count": 0
                      },
                      {
                        "bin_start": 299.4721428569,
                        "bin_end": 299.664285714,
                        "count": 1
                      }
                    ]
                  }
                },
                {
                  "name": "reanalysis_dew_point_temp_k",
                  "dtype": "float64",
                  "stats": {
                    "unique_count": 5,
                    "nan_count": 0,
                    "min": "292.414285714",
                    "max": "295.821428571",
                    "histogram": [
                      {
                        "bin_start": 292.414285714,
                        "bin_end": 292.75499999970003,
                        "count": 1
                      },
                      {
                        "bin_start": 292.75499999970003,
                        "bin_end": 293.0957142854,
                        "count": 0
                      },
                      {
                        "bin_start": 293.0957142854,
                        "bin_end": 293.4364285711,
                        "count": 0
                      },
                      {
                        "bin_start": 293.4364285711,
                        "bin_end": 293.7771428568,
                        "count": 0
                      },
                      {
                        "bin_start": 293.7771428568,
                        "bin_end": 294.11785714250004,
                        "count": 1
                      },
                      {
                        "bin_start": 294.11785714250004,
                        "bin_end": 294.4585714282,
                        "count": 0
                      },
                      {
                        "bin_start": 294.4585714282,
                        "bin_end": 294.7992857139,
                        "count": 0
                      },
                      {
                        "bin_start": 294.7992857139,
                        "bin_end": 295.13999999960004,
                        "count": 0
                      },
                      {
                        "bin_start": 295.13999999960004,
                        "bin_end": 295.4807142853,
                        "count": 2
                      },
                      {
                        "bin_start": 295.4807142853,
                        "bin_end": 295.821428571,
                        "count": 1
                      }
                    ]
                  }
                },
                {
                  "name": "reanalysis_max_air_temp_k",
                  "dtype": "float64",
                  "stats": {
                    "unique_count": 5,
                    "nan_count": 0,
                    "min": "299.8",
                    "max": "301.9",
                    "histogram": [
                      {
                        "bin_start": 299.8,
                        "bin_end": 300.01,
                        "count": 1
                      },
                      {
                        "bin_start": 300.01,
                        "bin_end": 300.22,
                        "count": 0
                      },
                      {
                        "bin_start": 300.22,
                        "bin_end": 300.43,
                        "count": 0
                      },
                      {
                        "bin_start": 300.43,
                        "bin_end": 300.64,
                        "count": 1
                      },
                      {
                        "bin_start": 300.64,
                        "bin_end": 300.85,
                        "count": 0
                      },
                      {
                        "bin_start": 300.85,
                        "bin_end": 301.06,
                        "count": 1
                      },
                      {
                        "bin_start": 301.06,
                        "bin_end": 301.27,
                        "count": 0
                      },
                      {
                        "bin_start": 301.27,
                        "bin_end": 301.47999999999996,
                        "count": 1
                      },
                      {
                        "bin_start": 301.47999999999996,
                        "bin_end": 301.69,
                        "count": 0
                      },
                      {
                        "bin_start": 301.69,
                        "bin_end": 301.9,
                        "count": 1
                      }
                    ]
                  }
                },
                {
                  "name": "reanalysis_min_air_temp_k",
                  "dtype": "float64",
                  "stats": {
                    "unique_count": 5,
                    "nan_count": 0,
                    "min": "295.9",
                    "max": "297.5",
                    "histogram": [
                      {
                        "bin_start": 295.9,
                        "bin_end": 296.06,
                        "count": 1
                      },
                      {
                        "bin_start": 296.06,
                        "bin_end": 296.21999999999997,
                        "count": 0
                      },
                      {
                        "bin_start": 296.21999999999997,
                        "bin_end": 296.38,
                        "count": 0
                      },
                      {
                        "bin_start": 296.38,
                        "bin_end": 296.53999999999996,
                        "count": 1
                      },
                      {
                        "bin_start": 296.53999999999996,
                        "bin_end": 296.7,
                        "count": 0
                      },
                      {
                        "bin_start": 296.7,
                        "bin_end": 296.86,
                        "count": 0
                      },
                      {
                        "bin_start": 296.86,
                        "bin_end": 297.02,
                        "count": 1
                      },
                      {
                        "bin_start": 297.02,
                        "bin_end": 297.18,
                        "count": 0
                      },
                      {
                        "bin_start": 297.18,
                        "bin_end": 297.34,
                        "count": 1
                      },
                      {
                        "bin_start": 297.34,
                        "bin_end": 297.5,
                        "count": 1
                      }
                    ]
                  }
                },
                {
                  "name": "reanalysis_precip_amt_kg_per_m2",
                  "dtype": "float64",
                  "stats": {
                    "unique_count": 5,
                    "nan_count": 0,
                    "min": "12.2",
                    "max": "32.0",
                    "histogram": [
                      {
                        "bin_start": 12.2,
                        "bin_end": 14.18,
                        "count": 2
                      },
                      {
                        "bin_start": 14.18,
                        "bin_end": 16.16,
                        "count": 0
                      },
                      {
                        "bin_start": 16.16,
                        "bin_end": 18.14,
                        "count": 1
                      },
                      {
                        "bin_start": 18.14,
                        "bin_end": 20.119999999999997,
                        "count": 0
                      },
                      {
                        "bin_start": 20.119999999999997,
                        "bin_end": 22.1,
                        "count": 0
                      },
                      {
                        "bin_start": 22.1,
                        "bin_end": 24.08,
                        "count": 0
                      },
                      {
                        "bin_start": 24.08,
                        "bin_end": 26.06,
                        "count": 0
                      },
                      {
                        "bin_start": 26.06,
                        "bin_end": 28.04,
                        "count": 1
                      },
                      {
                        "bin_start": 28.04,
                        "bin_end": 30.02,
                        "count": 0
                      },
                      {
                        "bin_start": 30.02,
                        "bin_end": 32,
                        "count": 1
                      }
                    ]
                  }
                },
                {
                  "name": "reanalysis_relative_humidity_percent",
                  "dtype": "float64",
                  "stats": {
                    "unique_count": 5,
                    "nan_count": 0,
                    "min": "73.3657142857",
                    "max": "82.0528571429",
                    "histogram": [
                      {
                        "bin_start": 73.3657142857,
                        "bin_end": 74.23442857142,
                        "count": 1
                      },
                      {
                        "bin_start": 74.23442857142,
                        "bin_end": 75.10314285714,
                        "count": 0
                      },
                      {
                        "bin_start": 75.10314285714,
                        "bin_end": 75.97185714285999,
                        "count": 0
                      },
                      {
                        "bin_start": 75.97185714285999,
                        "bin_end": 76.84057142857999,
                        "count": 0
                      },
                      {
                        "bin_start": 76.84057142857999,
                        "bin_end": 77.7092857143,
                        "count": 1
                      },
                      {
                        "bin_start": 77.7092857143,
                        "bin_end": 78.57800000002,
                        "count": 0
                      },
                      {
                        "bin_start": 78.57800000002,
                        "bin_end": 79.44671428574,
                        "count": 0
                      },
                      {
                        "bin_start": 79.44671428574,
                        "bin_end": 80.31542857145999,
                        "count": 0
                      },
                      {
                        "bin_start": 80.31542857145999,
                        "bin_end": 81.18414285717999,
                        "count": 2
                      },
                      {
                        "bin_start": 81.18414285717999,
                        "bin_end": 82.0528571429,
                        "count": 1
                      }
                    ]
                  }
                },
                {
                  "name": "reanalysis_sat_precip_amt_mm",
                  "dtype": "float64",
                  "stats": {
                    "unique_count": 5,
                    "nan_count": 0,
                    "min": "7.52",
                    "max": "34.54",
                    "histogram": [
                      {
                        "bin_start": 7.52,
                        "bin_end": 10.222,
                        "count": 1
                      },
                      {
                        "bin_start": 10.222,
                        "bin_end": 12.924,
                        "count": 1
                      },
                      {
                        "bin_start": 12.924,
                        "bin_end": 15.626,
                        "count": 1
                      },
                      {
                        "bin_start": 15.626,
                        "bin_end": 18.328,
                        "count": 0
                      },
                      {
                        "bin_start": 18.328,
                        "bin_end": 21.03,
                        "count": 0
                      },
                      {
                        "bin_start": 21.03,
                        "bin_end": 23.732,
                        "count": 1
                      },
                      {
                        "bin_start": 23.732,
                        "bin_end": 26.434,
                        "count": 0
                      },
                      {
                        "bin_start": 26.434,
                        "bin_end": 29.136,
                        "count": 0
                      },
                      {
                        "bin_start": 29.136,
                        "bin_end": 31.837999999999997,
                        "count": 0
                      },
                      {
                        "bin_start": 31.837999999999997,
                        "bin_end": 34.54,
                        "count": 1
                      }
                    ]
                  }
                },
                {
                  "name": "reanalysis_specific_humidity_g_per_kg",
                  "dtype": "float64",
                  "stats": {
                    "unique_count": 5,
                    "nan_count": 0,
                    "min": "14.0128571429",
                    "max": "17.21",
                    "histogram": [
                      {
                        "bin_start": 14.0128571429,
                        "bin_end": 14.33257142861,
                        "count": 1
                      },
                      {
                        "bin_start": 14.33257142861,
                        "bin_end": 14.65228571432,
                        "count": 0
                      },
                      {
                        "bin_start": 14.65228571432,
                        "bin_end": 14.97200000003,
                        "count": 0
                      },
                      {
                        "bin_start": 14.97200000003,
                        "bin_end": 15.29171428574,
                        "count": 0
                      },
                      {
                        "bin_start": 15.29171428574,
                        "bin_end": 15.61142857145,
                        "count": 1
                      },
                      {
                        "bin_start": 15.61142857145,
                        "bin_end": 15.931142857160001,
                        "count": 0
                      },
                      {
                        "bin_start": 15.931142857160001,
                        "bin_end": 16.25085714287,
                        "count": 0
                      },
                      {
                        "bin_start": 16.25085714287,
                        "bin_end": 16.57057142858,
                        "count": 0
                      },
                      {
                        "bin_start": 16.57057142858,
                        "bin_end": 16.890285714290002,
                        "count": 2
                      },
                      {
                        "bin_start": 16.890285714290002,
                        "bin_end": 17.21,
                        "count": 1
                      }
                    ]
                  }
                },
                {
                  "name": "reanalysis_tdtr_k",
                  "dtype": "float64",
                  "stats": {
                    "unique_count": 5,
                    "nan_count": 0,
                    "min": "2.3",
                    "max": "3.01428571429",
                    "histogram": [
                      {
                        "bin_start": 2.3,
                        "bin_end": 2.371428571429,
                        "count": 1
                      },
                      {
                        "bin_start": 2.371428571429,
                        "bin_end": 2.4428571428579997,
                        "count": 2
                      },
                      {
                        "bin_start": 2.4428571428579997,
                        "bin_end": 2.514285714287,
                        "count": 0
                      },
                      {
                        "bin_start": 2.514285714287,
                        "bin_end": 2.585714285716,
                        "count": 0
                      },
                      {
                        "bin_start": 2.585714285716,
                        "bin_end": 2.6571428571449998,
                        "count": 1
                      },
                      {
                        "bin_start": 2.6571428571449998,
                        "bin_end": 2.728571428574,
                        "count": 0
                      },
                      {
                        "bin_start": 2.728571428574,
                        "bin_end": 2.800000000003,
                        "count": 0
                      },
                      {
                        "bin_start": 2.800000000003,
                        "bin_end": 2.8714285714320003,
                        "count": 0
                      },
                      {
                        "bin_start": 2.8714285714320003,
                        "bin_end": 2.942857142861,
                        "count": 0
                      },
                      {
                        "bin_start": 2.942857142861,
                        "bin_end": 3.01428571429,
                        "count": 1
                      }
                    ]
                  }
                },
                {
                  "name": "station_avg_temp_c",
                  "dtype": "float64",
                  "stats": {
                    "unique_count": 4,
                    "nan_count": 0,
                    "min": "25.4428571429",
                    "max": "28.9428571429",
                    "histogram": [
                      {
                        "bin_start": 25.4428571429,
                        "bin_end": 25.7928571429,
                        "count": 1
                      },
                      {
                        "bin_start": 25.7928571429,
                        "bin_end": 26.1428571429,
                        "count": 0
                      },
                      {
                        "bin_start": 26.1428571429,
                        "bin_end": 26.4928571429,
                        "count": 0
                      },
                      {
                        "bin_start": 26.4928571429,
                        "bin_end": 26.842857142899998,
                        "count": 2
                      },
                      {
                        "bin_start": 26.842857142899998,
                        "bin_end": 27.1928571429,
                        "count": 0
                      },
                      {
                        "bin_start": 27.1928571429,
                        "bin_end": 27.542857142899997,
                        "count": 1
                      },
                      {
                        "bin_start": 27.542857142899997,
                        "bin_end": 27.8928571429,
                        "count": 0
                      },
                      {
                        "bin_start": 27.8928571429,
                        "bin_end": 28.2428571429,
                        "count": 0
                      },
                      {
                        "bin_start": 28.2428571429,
                        "bin_end": 28.592857142899998,
                        "count": 0
                      },
                      {
                        "bin_start": 28.592857142899998,
                        "bin_end": 28.9428571429,
                        "count": 1
                      }
                    ]
                  }
                },
                {
                  "name": "station_diur_temp_rng_c",
                  "dtype": "float64",
                  "stats": {
                    "unique_count": 5,
                    "nan_count": 0,
                    "min": "6.37142857143",
                    "max": "9.37142857143",
                    "histogram": [
                      {
                        "bin_start": 6.37142857143,
                        "bin_end": 6.67142857143,
                        "count": 2
                      },
                      {
                        "bin_start": 6.67142857143,
                        "bin_end": 6.97142857143,
                        "count": 2
                      },
                      {
                        "bin_start": 6.97142857143,
                        "bin_end": 7.27142857143,
                        "count": 0
                      },
                      {
                        "bin_start": 7.27142857143,
                        "bin_end": 7.57142857143,
                        "count": 0
                      },
                      {
                        "bin_start": 7.57142857143,
                        "bin_end": 7.87142857143,
                        "count": 0
                      },
                      {
                        "bin_start": 7.87142857143,
                        "bin_end": 8.171428571429999,
                        "count": 0
                      },
                      {
                        "bin_start": 8.171428571429999,
                        "bin_end": 8.47142857143,
                        "count": 0
                      },
                      {
                        "bin_start": 8.47142857143,
                        "bin_end": 8.77142857143,
                        "count": 0
                      },
                      {
                        "bin_start": 8.77142857143,
                        "bin_end": 9.07142857143,
                        "count": 0
                      },
                      {
                        "bin_start": 9.07142857143,
                        "bin_end": 9.37142857143,
                        "count": 1
                      }
                    ]
                  }
                },
                {
                  "name": "station_max_temp_c",
                  "dtype": "float64",
                  "stats": {
                    "unique_count": 5,
                    "nan_count": 0,
                    "min": "29.4",
                    "max": "35.0",
                    "histogram": [
                      {
                        "bin_start": 29.4,
                        "bin_end": 29.959999999999997,
                        "count": 1
                      },
                      {
                        "bin_start": 29.959999999999997,
                        "bin_end": 30.52,
                        "count": 0
                      },
                      {
                        "bin_start": 30.52,
                        "bin_end": 31.08,
                        "count": 0
                      },
                      {
                        "bin_start": 31.08,
                        "bin_end": 31.64,
                        "count": 0
                      },
                      {
                        "bin_start": 31.64,
                        "bin_end": 32.2,
                        "count": 1
                      },
                      {
                        "bin_start": 32.2,
                        "bin_end": 32.76,
                        "count": 1
                      },
                      {
                        "bin_start": 32.76,
                        "bin_end": 33.32,
                        "count": 1
                      },
                      {
                        "bin_start": 33.32,
                        "bin_end": 33.88,
                        "count": 0
                      },
                      {
                        "bin_start": 33.88,
                        "bin_end": 34.44,
                        "count": 0
                      },
                      {
                        "bin_start": 34.44,
                        "bin_end": 35,
                        "count": 1
                      }
                    ]
                  }
                },
                {
                  "name": "station_min_temp_c",
                  "dtype": "float64",
                  "stats": {
                    "unique_count": 5,
                    "nan_count": 0,
                    "min": "20.0",
                    "max": "23.9",
                    "histogram": [
                      {
                        "bin_start": 20,
                        "bin_end": 20.39,
                        "count": 1
                      },
                      {
                        "bin_start": 20.39,
                        "bin_end": 20.78,
                        "count": 0
                      },
                      {
                        "bin_start": 20.78,
                        "bin_end": 21.169999999999998,
                        "count": 0
                      },
                      {
                        "bin_start": 21.169999999999998,
                        "bin_end": 21.56,
                        "count": 0
                      },
                      {
                        "bin_start": 21.56,
                        "bin_end": 21.95,
                        "count": 0
                      },
                      {
                        "bin_start": 21.95,
                        "bin_end": 22.34,
                        "count": 1
                      },
                      {
                        "bin_start": 22.34,
                        "bin_end": 22.73,
                        "count": 0
                      },
                      {
                        "bin_start": 22.73,
                        "bin_end": 23.119999999999997,
                        "count": 1
                      },
                      {
                        "bin_start": 23.119999999999997,
                        "bin_end": 23.509999999999998,
                        "count": 1
                      },
                      {
                        "bin_start": 23.509999999999998,
                        "bin_end": 23.9,
                        "count": 1
                      }
                    ]
                  }
                },
                {
                  "name": "station_precip_mm",
                  "dtype": "float64",
                  "stats": {
                    "unique_count": 5,
                    "nan_count": 0,
                    "min": "4.0",
                    "max": "41.4",
                    "histogram": [
                      {
                        "bin_start": 4,
                        "bin_end": 7.74,
                        "count": 2
                      },
                      {
                        "bin_start": 7.74,
                        "bin_end": 11.48,
                        "count": 1
                      },
                      {
                        "bin_start": 11.48,
                        "bin_end": 15.219999999999999,
                        "count": 0
                      },
                      {
                        "bin_start": 15.219999999999999,
                        "bin_end": 18.96,
                        "count": 1
                      },
                      {
                        "bin_start": 18.96,
                        "bin_end": 22.7,
                        "count": 0
                      },
                      {
                        "bin_start": 22.7,
                        "bin_end": 26.439999999999998,
                        "count": 0
                      },
                      {
                        "bin_start": 26.439999999999998,
                        "bin_end": 30.18,
                        "count": 0
                      },
                      {
                        "bin_start": 30.18,
                        "bin_end": 33.92,
                        "count": 0
                      },
                      {
                        "bin_start": 33.92,
                        "bin_end": 37.66,
                        "count": 0
                      },
                      {
                        "bin_start": 37.66,
                        "bin_end": 41.4,
                        "count": 1
                      }
                    ]
                  }
                },
                {
                  "name": "_deepnote_index_column",
                  "dtype": "object"
                }
              ],
              "rows_top": [
                {
                  "week_start_date": "1990-04-30",
                  "ndvi_ne": 0.1226,
                  "ndvi_nw": 0.103725,
                  "ndvi_se": 0.1984833,
                  "ndvi_sw": 0.1776167,
                  "precipitation_amt_mm": 12.42,
                  "reanalysis_air_temp_k": 297.572857143,
                  "reanalysis_avg_temp_k": 297.742857143,
                  "reanalysis_dew_point_temp_k": 292.414285714,
                  "reanalysis_max_air_temp_k": 299.8,
                  "reanalysis_min_air_temp_k": 295.9,
                  "reanalysis_precip_amt_kg_per_m2": 32,
                  "reanalysis_relative_humidity_percent": 73.3657142857,
                  "reanalysis_sat_precip_amt_mm": 12.42,
                  "reanalysis_specific_humidity_g_per_kg": 14.0128571429,
                  "reanalysis_tdtr_k": 2.62857142857,
                  "station_avg_temp_c": 25.4428571429,
                  "station_diur_temp_rng_c": 6.9,
                  "station_max_temp_c": 29.4,
                  "station_min_temp_c": 20,
                  "station_precip_mm": 16,
                  "_deepnote_index_column": "(1990, 18)"
                },
                {
                  "week_start_date": "1990-05-07",
                  "ndvi_ne": 0.1699,
                  "ndvi_nw": 0.142175,
                  "ndvi_se": 0.1623571,
                  "ndvi_sw": 0.1554857,
                  "precipitation_amt_mm": 22.82,
                  "reanalysis_air_temp_k": 298.211428571,
                  "reanalysis_avg_temp_k": 298.442857143,
                  "reanalysis_dew_point_temp_k": 293.951428571,
                  "reanalysis_max_air_temp_k": 300.9,
                  "reanalysis_min_air_temp_k": 296.4,
                  "reanalysis_precip_amt_kg_per_m2": 17.94,
                  "reanalysis_relative_humidity_percent": 77.3685714286,
                  "reanalysis_sat_precip_amt_mm": 22.82,
                  "reanalysis_specific_humidity_g_per_kg": 15.3728571429,
                  "reanalysis_tdtr_k": 2.37142857143,
                  "station_avg_temp_c": 26.7142857143,
                  "station_diur_temp_rng_c": 6.37142857143,
                  "station_max_temp_c": 31.7,
                  "station_min_temp_c": 22.2,
                  "station_precip_mm": 8.6,
                  "_deepnote_index_column": "(1990, 19)"
                },
                {
                  "week_start_date": "1990-05-14",
                  "ndvi_ne": 0.03225,
                  "ndvi_nw": 0.1729667,
                  "ndvi_se": 0.1572,
                  "ndvi_sw": 0.1708429,
                  "precipitation_amt_mm": 34.54,
                  "reanalysis_air_temp_k": 298.781428571,
                  "reanalysis_avg_temp_k": 298.878571429,
                  "reanalysis_dew_point_temp_k": 295.434285714,
                  "reanalysis_max_air_temp_k": 300.5,
                  "reanalysis_min_air_temp_k": 297.3,
                  "reanalysis_precip_amt_kg_per_m2": 26.1,
                  "reanalysis_relative_humidity_percent": 82.0528571429,
                  "reanalysis_sat_precip_amt_mm": 34.54,
                  "reanalysis_specific_humidity_g_per_kg": 16.8485714286,
                  "reanalysis_tdtr_k": 2.3,
                  "station_avg_temp_c": 26.7142857143,
                  "station_diur_temp_rng_c": 6.48571428571,
                  "station_max_temp_c": 32.2,
                  "station_min_temp_c": 22.8,
                  "station_precip_mm": 41.4,
                  "_deepnote_index_column": "(1990, 20)"
                },
                {
                  "week_start_date": "1990-05-21",
                  "ndvi_ne": 0.1286333,
                  "ndvi_nw": 0.2450667,
                  "ndvi_se": 0.2275571,
                  "ndvi_sw": 0.2358857,
                  "precipitation_amt_mm": 15.36,
                  "reanalysis_air_temp_k": 298.987142857,
                  "reanalysis_avg_temp_k": 299.228571429,
                  "reanalysis_dew_point_temp_k": 295.31,
                  "reanalysis_max_air_temp_k": 301.4,
                  "reanalysis_min_air_temp_k": 297,
                  "reanalysis_precip_amt_kg_per_m2": 13.9,
                  "reanalysis_relative_humidity_percent": 80.3371428571,
                  "reanalysis_sat_precip_amt_mm": 15.36,
                  "reanalysis_specific_humidity_g_per_kg": 16.6728571429,
                  "reanalysis_tdtr_k": 2.42857142857,
                  "station_avg_temp_c": 27.4714285714,
                  "station_diur_temp_rng_c": 6.77142857143,
                  "station_max_temp_c": 33.3,
                  "station_min_temp_c": 23.3,
                  "station_precip_mm": 4,
                  "_deepnote_index_column": "(1990, 21)"
                },
                {
                  "week_start_date": "1990-05-28",
                  "ndvi_ne": 0.1962,
                  "ndvi_nw": 0.2622,
                  "ndvi_se": 0.2512,
                  "ndvi_sw": 0.24734,
                  "precipitation_amt_mm": 7.52,
                  "reanalysis_air_temp_k": 299.518571429,
                  "reanalysis_avg_temp_k": 299.664285714,
                  "reanalysis_dew_point_temp_k": 295.821428571,
                  "reanalysis_max_air_temp_k": 301.9,
                  "reanalysis_min_air_temp_k": 297.5,
                  "reanalysis_precip_amt_kg_per_m2": 12.2,
                  "reanalysis_relative_humidity_percent": 80.46,
                  "reanalysis_sat_precip_amt_mm": 7.52,
                  "reanalysis_specific_humidity_g_per_kg": 17.21,
                  "reanalysis_tdtr_k": 3.01428571429,
                  "station_avg_temp_c": 28.9428571429,
                  "station_diur_temp_rng_c": 9.37142857143,
                  "station_max_temp_c": 35,
                  "station_min_temp_c": 23.9,
                  "station_precip_mm": 5.8,
                  "_deepnote_index_column": "(1990, 22)"
                }
              ],
              "rows_bottom": null
            },
            "text/plain": "                week_start_date   ndvi_ne   ndvi_nw   ndvi_se   ndvi_sw  \\\nyear weekofyear                                                           \n1990 18              1990-04-30  0.122600  0.103725  0.198483  0.177617   \n     19              1990-05-07  0.169900  0.142175  0.162357  0.155486   \n     20              1990-05-14  0.032250  0.172967  0.157200  0.170843   \n     21              1990-05-21  0.128633  0.245067  0.227557  0.235886   \n     22              1990-05-28  0.196200  0.262200  0.251200  0.247340   \n\n                 precipitation_amt_mm  reanalysis_air_temp_k  \\\nyear weekofyear                                                \n1990 18                         12.42             297.572857   \n     19                         22.82             298.211429   \n     20                         34.54             298.781429   \n     21                         15.36             298.987143   \n     22                          7.52             299.518571   \n\n                 reanalysis_avg_temp_k  reanalysis_dew_point_temp_k  \\\nyear weekofyear                                                       \n1990 18                     297.742857                   292.414286   \n     19                     298.442857                   293.951429   \n     20                     298.878571                   295.434286   \n     21                     299.228571                   295.310000   \n     22                     299.664286                   295.821429   \n\n                 reanalysis_max_air_temp_k  ...  \\\nyear weekofyear                             ...   \n1990 18                              299.8  ...   \n     19                              300.9  ...   \n     20                              300.5  ...   \n     21                              301.4  ...   \n     22                              301.9  ...   \n\n                 reanalysis_precip_amt_kg_per_m2  \\\nyear weekofyear                                    \n1990 18                                    32.00   \n     19                                    17.94   \n     20                                    26.10   \n     21                                    13.90   \n     22                                    12.20   \n\n                 reanalysis_relative_humidity_percent  \\\nyear weekofyear                                         \n1990 18                                     73.365714   \n     19                                     77.368571   \n     20                                     82.052857   \n     21                                     80.337143   \n     22                                     80.460000   \n\n                 reanalysis_sat_precip_amt_mm  \\\nyear weekofyear                                 \n1990 18                                 12.42   \n     19                                 22.82   \n     20                                 34.54   \n     21                                 15.36   \n     22                                  7.52   \n\n                 reanalysis_specific_humidity_g_per_kg  reanalysis_tdtr_k  \\\nyear weekofyear                                                             \n1990 18                                      14.012857           2.628571   \n     19                                      15.372857           2.371429   \n     20                                      16.848571           2.300000   \n     21                                      16.672857           2.428571   \n     22                                      17.210000           3.014286   \n\n                 station_avg_temp_c  station_diur_temp_rng_c  \\\nyear weekofyear                                                \n1990 18                   25.442857                 6.900000   \n     19                   26.714286                 6.371429   \n     20                   26.714286                 6.485714   \n     21                   27.471429                 6.771429   \n     22                   28.942857                 9.371429   \n\n                 station_max_temp_c  station_min_temp_c  station_precip_mm  \nyear weekofyear                                                             \n1990 18                        29.4                20.0               16.0  \n     19                        31.7                22.2                8.6  \n     20                        32.2                22.8               41.4  \n     21                        33.3                23.3                4.0  \n     22                        35.0                23.9                5.8  \n\n[5 rows x 21 columns]",
            "text/html": "<div>\n<style scoped>\n    .dataframe tbody tr th:only-of-type {\n        vertical-align: middle;\n    }\n\n    .dataframe tbody tr th {\n        vertical-align: top;\n    }\n\n    .dataframe thead th {\n        text-align: right;\n    }\n</style>\n<table border=\"1\" class=\"dataframe\">\n  <thead>\n    <tr style=\"text-align: right;\">\n      <th></th>\n      <th></th>\n      <th>week_start_date</th>\n      <th>ndvi_ne</th>\n      <th>ndvi_nw</th>\n      <th>ndvi_se</th>\n      <th>ndvi_sw</th>\n      <th>precipitation_amt_mm</th>\n      <th>reanalysis_air_temp_k</th>\n      <th>reanalysis_avg_temp_k</th>\n      <th>reanalysis_dew_point_temp_k</th>\n      <th>reanalysis_max_air_temp_k</th>\n      <th>...</th>\n      <th>reanalysis_precip_amt_kg_per_m2</th>\n      <th>reanalysis_relative_humidity_percent</th>\n      <th>reanalysis_sat_precip_amt_mm</th>\n      <th>reanalysis_specific_humidity_g_per_kg</th>\n      <th>reanalysis_tdtr_k</th>\n      <th>station_avg_temp_c</th>\n      <th>station_diur_temp_rng_c</th>\n      <th>station_max_temp_c</th>\n      <th>station_min_temp_c</th>\n      <th>station_precip_mm</th>\n    </tr>\n    <tr>\n      <th>year</th>\n      <th>weekofyear</th>\n      <th></th>\n      <th></th>\n      <th></th>\n      <th></th>\n      <th></th>\n      <th></th>\n      <th></th>\n      <th></th>\n      <th></th>\n      <th></th>\n      <th></th>\n      <th></th>\n      <th></th>\n      <th></th>\n      <th></th>\n      <th></th>\n      <th></th>\n      <th></th>\n      <th></th>\n      <th></th>\n      <th></th>\n    </tr>\n  </thead>\n  <tbody>\n    <tr>\n      <th rowspan=\"5\" valign=\"top\">1990</th>\n      <th>18</th>\n      <td>1990-04-30</td>\n      <td>0.122600</td>\n      <td>0.103725</td>\n      <td>0.198483</td>\n      <td>0.177617</td>\n      <td>12.42</td>\n      <td>297.572857</td>\n      <td>297.742857</td>\n      <td>292.414286</td>\n      <td>299.8</td>\n      <td>...</td>\n      <td>32.00</td>\n      <td>73.365714</td>\n      <td>12.42</td>\n      <td>14.012857</td>\n      <td>2.628571</td>\n      <td>25.442857</td>\n      <td>6.900000</td>\n      <td>29.4</td>\n      <td>20.0</td>\n      <td>16.0</td>\n    </tr>\n    <tr>\n      <th>19</th>\n      <td>1990-05-07</td>\n      <td>0.169900</td>\n      <td>0.142175</td>\n      <td>0.162357</td>\n      <td>0.155486</td>\n      <td>22.82</td>\n      <td>298.211429</td>\n      <td>298.442857</td>\n      <td>293.951429</td>\n      <td>300.9</td>\n      <td>...</td>\n      <td>17.94</td>\n      <td>77.368571</td>\n      <td>22.82</td>\n      <td>15.372857</td>\n      <td>2.371429</td>\n      <td>26.714286</td>\n      <td>6.371429</td>\n      <td>31.7</td>\n      <td>22.2</td>\n      <td>8.6</td>\n    </tr>\n    <tr>\n      <th>20</th>\n      <td>1990-05-14</td>\n      <td>0.032250</td>\n      <td>0.172967</td>\n      <td>0.157200</td>\n      <td>0.170843</td>\n      <td>34.54</td>\n      <td>298.781429</td>\n      <td>298.878571</td>\n      <td>295.434286</td>\n      <td>300.5</td>\n      <td>...</td>\n      <td>26.10</td>\n      <td>82.052857</td>\n      <td>34.54</td>\n      <td>16.848571</td>\n      <td>2.300000</td>\n      <td>26.714286</td>\n      <td>6.485714</td>\n      <td>32.2</td>\n      <td>22.8</td>\n      <td>41.4</td>\n    </tr>\n    <tr>\n      <th>21</th>\n      <td>1990-05-21</td>\n      <td>0.128633</td>\n      <td>0.245067</td>\n      <td>0.227557</td>\n      <td>0.235886</td>\n      <td>15.36</td>\n      <td>298.987143</td>\n      <td>299.228571</td>\n      <td>295.310000</td>\n      <td>301.4</td>\n      <td>...</td>\n      <td>13.90</td>\n      <td>80.337143</td>\n      <td>15.36</td>\n      <td>16.672857</td>\n      <td>2.428571</td>\n      <td>27.471429</td>\n      <td>6.771429</td>\n      <td>33.3</td>\n      <td>23.3</td>\n      <td>4.0</td>\n    </tr>\n    <tr>\n      <th>22</th>\n      <td>1990-05-28</td>\n      <td>0.196200</td>\n      <td>0.262200</td>\n      <td>0.251200</td>\n      <td>0.247340</td>\n      <td>7.52</td>\n      <td>299.518571</td>\n      <td>299.664286</td>\n      <td>295.821429</td>\n      <td>301.9</td>\n      <td>...</td>\n      <td>12.20</td>\n      <td>80.460000</td>\n      <td>7.52</td>\n      <td>17.210000</td>\n      <td>3.014286</td>\n      <td>28.942857</td>\n      <td>9.371429</td>\n      <td>35.0</td>\n      <td>23.9</td>\n      <td>5.8</td>\n    </tr>\n  </tbody>\n</table>\n<p>5 rows × 21 columns</p>\n</div>"
          },
          "metadata": {}
        }
      ],
      "execution_count": null
    },
    {
      "cell_type": "markdown",
      "source": "# Preprocess",
      "metadata": {
        "tags": [],
        "cell_id": "00006-82310b39-6441-497b-a287-e1c477cf8781",
        "deepnote_cell_type": "text-cell-h1"
      }
    },
    {
      "cell_type": "code",
      "metadata": {
        "tags": [],
        "cell_id": "00007-08c93d92-5c90-47fa-bc0d-e840c7cfbe17",
        "deepnote_to_be_reexecuted": false,
        "source_hash": "953a78c5",
        "execution_millis": 11,
        "execution_start": 1619635567827,
        "deepnote_cell_type": "code"
      },
      "source": "#drop week start date \nsj_train_features.drop('week_start_date', axis=1, inplace=True)\niq_train_features.drop('week_start_date', axis=1, inplace=True)",
      "outputs": [
        {
          "name": "stderr",
          "text": "/shared-libs/python3.7/py/lib/python3.7/site-packages/pandas/core/frame.py:4315: SettingWithCopyWarning: \nA value is trying to be set on a copy of a slice from a DataFrame\n\nSee the caveats in the documentation: https://pandas.pydata.org/pandas-docs/stable/user_guide/indexing.html#returning-a-view-versus-a-copy\n  errors=errors,\n",
          "output_type": "stream"
        }
      ],
      "execution_count": null
    },
    {
      "cell_type": "code",
      "metadata": {
        "tags": [],
        "cell_id": "00008-1f6b584a-a63b-4855-81e0-964db885e31f",
        "deepnote_to_be_reexecuted": false,
        "source_hash": "815df3b3",
        "execution_millis": 10,
        "execution_start": 1619635567828,
        "deepnote_cell_type": "code"
      },
      "source": "#Function to count missing values on the dataset \ndef missing_values_table(df):\n    \n    mis_val = df.isnull().sum()\n\n    mis_val_percent = 100 * df.isnull().sum() / len(df)\n\n    mis_val_table = pd.concat([mis_val, mis_val_percent], axis=1)\n\n    mis_val_table_ren_columns = mis_val_table.rename(\n    columns = {0 : 'Missing Values', 1 : '% of Total Values'})\n    \n    mis_val_table_ren_columns = mis_val_table_ren_columns[\n        mis_val_table_ren_columns.iloc[:,1] != 0].sort_values(\n    '% of Total Values', ascending=False).round(2)\n    \n    # Print some summary information\n    print(\"Your selected dataframe has {} columns.\".format(df.shape[1]) + '\\n' + \n    \"There are {} columns that have missing values.\".format(mis_val_table_ren_columns.shape[0]))\n    \n    # Return the dataframe with missing information\n    return mis_val_table_ren_columns\n\nmissing_values_table(sj_train_features)\n",
      "outputs": [
        {
          "name": "stdout",
          "text": "Your selected dataframe has 20 columns.\nThere are 20 columns that have missing values.\n",
          "output_type": "stream"
        },
        {
          "output_type": "execute_result",
          "execution_count": 7,
          "data": {
            "application/vnd.deepnote.dataframe.v2+json": {
              "row_count": 20,
              "column_count": 2,
              "columns": [
                {
                  "name": "Missing Values",
                  "dtype": "int64",
                  "stats": {
                    "unique_count": 5,
                    "nan_count": 0,
                    "min": "6",
                    "max": "191",
                    "histogram": [
                      {
                        "bin_start": 6,
                        "bin_end": 24.5,
                        "count": 18
                      },
                      {
                        "bin_start": 24.5,
                        "bin_end": 43,
                        "count": 0
                      },
                      {
                        "bin_start": 43,
                        "bin_end": 61.5,
                        "count": 1
                      },
                      {
                        "bin_start": 61.5,
                        "bin_end": 80,
                        "count": 0
                      },
                      {
                        "bin_start": 80,
                        "bin_end": 98.5,
                        "count": 0
                      },
                      {
                        "bin_start": 98.5,
                        "bin_end": 117,
                        "count": 0
                      },
                      {
                        "bin_start": 117,
                        "bin_end": 135.5,
                        "count": 0
                      },
                      {
                        "bin_start": 135.5,
                        "bin_end": 154,
                        "count": 0
                      },
                      {
                        "bin_start": 154,
                        "bin_end": 172.5,
                        "count": 0
                      },
                      {
                        "bin_start": 172.5,
                        "bin_end": 191,
                        "count": 1
                      }
                    ]
                  }
                },
                {
                  "name": "% of Total Values",
                  "dtype": "float64",
                  "stats": {
                    "unique_count": 5,
                    "nan_count": 0,
                    "min": "0.64",
                    "max": "20.41",
                    "histogram": [
                      {
                        "bin_start": 0.64,
                        "bin_end": 2.617,
                        "count": 18
                      },
                      {
                        "bin_start": 2.617,
                        "bin_end": 4.593999999999999,
                        "count": 0
                      },
                      {
                        "bin_start": 4.593999999999999,
                        "bin_end": 6.570999999999999,
                        "count": 1
                      },
                      {
                        "bin_start": 6.570999999999999,
                        "bin_end": 8.548,
                        "count": 0
                      },
                      {
                        "bin_start": 8.548,
                        "bin_end": 10.525,
                        "count": 0
                      },
                      {
                        "bin_start": 10.525,
                        "bin_end": 12.501999999999999,
                        "count": 0
                      },
                      {
                        "bin_start": 12.501999999999999,
                        "bin_end": 14.479,
                        "count": 0
                      },
                      {
                        "bin_start": 14.479,
                        "bin_end": 16.456,
                        "count": 0
                      },
                      {
                        "bin_start": 16.456,
                        "bin_end": 18.433,
                        "count": 0
                      },
                      {
                        "bin_start": 18.433,
                        "bin_end": 20.41,
                        "count": 1
                      }
                    ]
                  }
                },
                {
                  "name": "_deepnote_index_column",
                  "dtype": "object"
                }
              ],
              "rows_top": [
                {
                  "Missing Values": 191,
                  "% of Total Values": 20.41,
                  "_deepnote_index_column": "ndvi_ne"
                },
                {
                  "Missing Values": 49,
                  "% of Total Values": 5.24,
                  "_deepnote_index_column": "ndvi_nw"
                },
                {
                  "Missing Values": 19,
                  "% of Total Values": 2.03,
                  "_deepnote_index_column": "ndvi_se"
                },
                {
                  "Missing Values": 19,
                  "% of Total Values": 2.03,
                  "_deepnote_index_column": "ndvi_sw"
                },
                {
                  "Missing Values": 9,
                  "% of Total Values": 0.96,
                  "_deepnote_index_column": "reanalysis_sat_precip_amt_mm"
                },
                {
                  "Missing Values": 9,
                  "% of Total Values": 0.96,
                  "_deepnote_index_column": "precipitation_amt_mm"
                },
                {
                  "Missing Values": 6,
                  "% of Total Values": 0.64,
                  "_deepnote_index_column": "station_min_temp_c"
                },
                {
                  "Missing Values": 6,
                  "% of Total Values": 0.64,
                  "_deepnote_index_column": "station_max_temp_c"
                },
                {
                  "Missing Values": 6,
                  "% of Total Values": 0.64,
                  "_deepnote_index_column": "station_diur_temp_rng_c"
                },
                {
                  "Missing Values": 6,
                  "% of Total Values": 0.64,
                  "_deepnote_index_column": "station_avg_temp_c"
                },
                {
                  "Missing Values": 6,
                  "% of Total Values": 0.64,
                  "_deepnote_index_column": "reanalysis_tdtr_k"
                },
                {
                  "Missing Values": 6,
                  "% of Total Values": 0.64,
                  "_deepnote_index_column": "reanalysis_specific_humidity_g_per_kg"
                },
                {
                  "Missing Values": 6,
                  "% of Total Values": 0.64,
                  "_deepnote_index_column": "reanalysis_precip_amt_kg_per_m2"
                },
                {
                  "Missing Values": 6,
                  "% of Total Values": 0.64,
                  "_deepnote_index_column": "reanalysis_relative_humidity_percent"
                },
                {
                  "Missing Values": 6,
                  "% of Total Values": 0.64,
                  "_deepnote_index_column": "reanalysis_min_air_temp_k"
                },
                {
                  "Missing Values": 6,
                  "% of Total Values": 0.64,
                  "_deepnote_index_column": "reanalysis_max_air_temp_k"
                },
                {
                  "Missing Values": 6,
                  "% of Total Values": 0.64,
                  "_deepnote_index_column": "reanalysis_dew_point_temp_k"
                },
                {
                  "Missing Values": 6,
                  "% of Total Values": 0.64,
                  "_deepnote_index_column": "reanalysis_avg_temp_k"
                },
                {
                  "Missing Values": 6,
                  "% of Total Values": 0.64,
                  "_deepnote_index_column": "reanalysis_air_temp_k"
                },
                {
                  "Missing Values": 6,
                  "% of Total Values": 0.64,
                  "_deepnote_index_column": "station_precip_mm"
                }
              ],
              "rows_bottom": null
            },
            "text/plain": "                                       Missing Values  % of Total Values\nndvi_ne                                           191              20.41\nndvi_nw                                            49               5.24\nndvi_se                                            19               2.03\nndvi_sw                                            19               2.03\nreanalysis_sat_precip_amt_mm                        9               0.96\nprecipitation_amt_mm                                9               0.96\nstation_min_temp_c                                  6               0.64\nstation_max_temp_c                                  6               0.64\nstation_diur_temp_rng_c                             6               0.64\nstation_avg_temp_c                                  6               0.64\nreanalysis_tdtr_k                                   6               0.64\nreanalysis_specific_humidity_g_per_kg               6               0.64\nreanalysis_precip_amt_kg_per_m2                     6               0.64\nreanalysis_relative_humidity_percent                6               0.64\nreanalysis_min_air_temp_k                           6               0.64\nreanalysis_max_air_temp_k                           6               0.64\nreanalysis_dew_point_temp_k                         6               0.64\nreanalysis_avg_temp_k                               6               0.64\nreanalysis_air_temp_k                               6               0.64\nstation_precip_mm                                   6               0.64",
            "text/html": "<div>\n<style scoped>\n    .dataframe tbody tr th:only-of-type {\n        vertical-align: middle;\n    }\n\n    .dataframe tbody tr th {\n        vertical-align: top;\n    }\n\n    .dataframe thead th {\n        text-align: right;\n    }\n</style>\n<table border=\"1\" class=\"dataframe\">\n  <thead>\n    <tr style=\"text-align: right;\">\n      <th></th>\n      <th>Missing Values</th>\n      <th>% of Total Values</th>\n    </tr>\n  </thead>\n  <tbody>\n    <tr>\n      <th>ndvi_ne</th>\n      <td>191</td>\n      <td>20.41</td>\n    </tr>\n    <tr>\n      <th>ndvi_nw</th>\n      <td>49</td>\n      <td>5.24</td>\n    </tr>\n    <tr>\n      <th>ndvi_se</th>\n      <td>19</td>\n      <td>2.03</td>\n    </tr>\n    <tr>\n      <th>ndvi_sw</th>\n      <td>19</td>\n      <td>2.03</td>\n    </tr>\n    <tr>\n      <th>reanalysis_sat_precip_amt_mm</th>\n      <td>9</td>\n      <td>0.96</td>\n    </tr>\n    <tr>\n      <th>precipitation_amt_mm</th>\n      <td>9</td>\n      <td>0.96</td>\n    </tr>\n    <tr>\n      <th>station_min_temp_c</th>\n      <td>6</td>\n      <td>0.64</td>\n    </tr>\n    <tr>\n      <th>station_max_temp_c</th>\n      <td>6</td>\n      <td>0.64</td>\n    </tr>\n    <tr>\n      <th>station_diur_temp_rng_c</th>\n      <td>6</td>\n      <td>0.64</td>\n    </tr>\n    <tr>\n      <th>station_avg_temp_c</th>\n      <td>6</td>\n      <td>0.64</td>\n    </tr>\n    <tr>\n      <th>reanalysis_tdtr_k</th>\n      <td>6</td>\n      <td>0.64</td>\n    </tr>\n    <tr>\n      <th>reanalysis_specific_humidity_g_per_kg</th>\n      <td>6</td>\n      <td>0.64</td>\n    </tr>\n    <tr>\n      <th>reanalysis_precip_amt_kg_per_m2</th>\n      <td>6</td>\n      <td>0.64</td>\n    </tr>\n    <tr>\n      <th>reanalysis_relative_humidity_percent</th>\n      <td>6</td>\n      <td>0.64</td>\n    </tr>\n    <tr>\n      <th>reanalysis_min_air_temp_k</th>\n      <td>6</td>\n      <td>0.64</td>\n    </tr>\n    <tr>\n      <th>reanalysis_max_air_temp_k</th>\n      <td>6</td>\n      <td>0.64</td>\n    </tr>\n    <tr>\n      <th>reanalysis_dew_point_temp_k</th>\n      <td>6</td>\n      <td>0.64</td>\n    </tr>\n    <tr>\n      <th>reanalysis_avg_temp_k</th>\n      <td>6</td>\n      <td>0.64</td>\n    </tr>\n    <tr>\n      <th>reanalysis_air_temp_k</th>\n      <td>6</td>\n      <td>0.64</td>\n    </tr>\n    <tr>\n      <th>station_precip_mm</th>\n      <td>6</td>\n      <td>0.64</td>\n    </tr>\n  </tbody>\n</table>\n</div>"
          },
          "metadata": {}
        }
      ],
      "execution_count": null
    },
    {
      "cell_type": "code",
      "metadata": {
        "tags": [],
        "cell_id": "00010-b588046c-8a35-4122-9b78-71d1c24389fa",
        "deepnote_to_be_reexecuted": false,
        "source_hash": "fde7dbc7",
        "execution_start": 1619635567832,
        "execution_millis": 29,
        "deepnote_cell_type": "code"
      },
      "source": "\nmissing_values_table(sj_train_features)",
      "outputs": [
        {
          "name": "stdout",
          "text": "Your selected dataframe has 20 columns.\nThere are 20 columns that have missing values.\n",
          "output_type": "stream"
        },
        {
          "output_type": "execute_result",
          "execution_count": 8,
          "data": {
            "application/vnd.deepnote.dataframe.v2+json": {
              "row_count": 20,
              "column_count": 2,
              "columns": [
                {
                  "name": "Missing Values",
                  "dtype": "int64",
                  "stats": {
                    "unique_count": 5,
                    "nan_count": 0,
                    "min": "6",
                    "max": "191",
                    "histogram": [
                      {
                        "bin_start": 6,
                        "bin_end": 24.5,
                        "count": 18
                      },
                      {
                        "bin_start": 24.5,
                        "bin_end": 43,
                        "count": 0
                      },
                      {
                        "bin_start": 43,
                        "bin_end": 61.5,
                        "count": 1
                      },
                      {
                        "bin_start": 61.5,
                        "bin_end": 80,
                        "count": 0
                      },
                      {
                        "bin_start": 80,
                        "bin_end": 98.5,
                        "count": 0
                      },
                      {
                        "bin_start": 98.5,
                        "bin_end": 117,
                        "count": 0
                      },
                      {
                        "bin_start": 117,
                        "bin_end": 135.5,
                        "count": 0
                      },
                      {
                        "bin_start": 135.5,
                        "bin_end": 154,
                        "count": 0
                      },
                      {
                        "bin_start": 154,
                        "bin_end": 172.5,
                        "count": 0
                      },
                      {
                        "bin_start": 172.5,
                        "bin_end": 191,
                        "count": 1
                      }
                    ]
                  }
                },
                {
                  "name": "% of Total Values",
                  "dtype": "float64",
                  "stats": {
                    "unique_count": 5,
                    "nan_count": 0,
                    "min": "0.64",
                    "max": "20.41",
                    "histogram": [
                      {
                        "bin_start": 0.64,
                        "bin_end": 2.617,
                        "count": 18
                      },
                      {
                        "bin_start": 2.617,
                        "bin_end": 4.593999999999999,
                        "count": 0
                      },
                      {
                        "bin_start": 4.593999999999999,
                        "bin_end": 6.570999999999999,
                        "count": 1
                      },
                      {
                        "bin_start": 6.570999999999999,
                        "bin_end": 8.548,
                        "count": 0
                      },
                      {
                        "bin_start": 8.548,
                        "bin_end": 10.525,
                        "count": 0
                      },
                      {
                        "bin_start": 10.525,
                        "bin_end": 12.501999999999999,
                        "count": 0
                      },
                      {
                        "bin_start": 12.501999999999999,
                        "bin_end": 14.479,
                        "count": 0
                      },
                      {
                        "bin_start": 14.479,
                        "bin_end": 16.456,
                        "count": 0
                      },
                      {
                        "bin_start": 16.456,
                        "bin_end": 18.433,
                        "count": 0
                      },
                      {
                        "bin_start": 18.433,
                        "bin_end": 20.41,
                        "count": 1
                      }
                    ]
                  }
                },
                {
                  "name": "_deepnote_index_column",
                  "dtype": "object"
                }
              ],
              "rows_top": [
                {
                  "Missing Values": 191,
                  "% of Total Values": 20.41,
                  "_deepnote_index_column": "ndvi_ne"
                },
                {
                  "Missing Values": 49,
                  "% of Total Values": 5.24,
                  "_deepnote_index_column": "ndvi_nw"
                },
                {
                  "Missing Values": 19,
                  "% of Total Values": 2.03,
                  "_deepnote_index_column": "ndvi_se"
                },
                {
                  "Missing Values": 19,
                  "% of Total Values": 2.03,
                  "_deepnote_index_column": "ndvi_sw"
                },
                {
                  "Missing Values": 9,
                  "% of Total Values": 0.96,
                  "_deepnote_index_column": "reanalysis_sat_precip_amt_mm"
                },
                {
                  "Missing Values": 9,
                  "% of Total Values": 0.96,
                  "_deepnote_index_column": "precipitation_amt_mm"
                },
                {
                  "Missing Values": 6,
                  "% of Total Values": 0.64,
                  "_deepnote_index_column": "station_min_temp_c"
                },
                {
                  "Missing Values": 6,
                  "% of Total Values": 0.64,
                  "_deepnote_index_column": "station_max_temp_c"
                },
                {
                  "Missing Values": 6,
                  "% of Total Values": 0.64,
                  "_deepnote_index_column": "station_diur_temp_rng_c"
                },
                {
                  "Missing Values": 6,
                  "% of Total Values": 0.64,
                  "_deepnote_index_column": "station_avg_temp_c"
                },
                {
                  "Missing Values": 6,
                  "% of Total Values": 0.64,
                  "_deepnote_index_column": "reanalysis_tdtr_k"
                },
                {
                  "Missing Values": 6,
                  "% of Total Values": 0.64,
                  "_deepnote_index_column": "reanalysis_specific_humidity_g_per_kg"
                },
                {
                  "Missing Values": 6,
                  "% of Total Values": 0.64,
                  "_deepnote_index_column": "reanalysis_precip_amt_kg_per_m2"
                },
                {
                  "Missing Values": 6,
                  "% of Total Values": 0.64,
                  "_deepnote_index_column": "reanalysis_relative_humidity_percent"
                },
                {
                  "Missing Values": 6,
                  "% of Total Values": 0.64,
                  "_deepnote_index_column": "reanalysis_min_air_temp_k"
                },
                {
                  "Missing Values": 6,
                  "% of Total Values": 0.64,
                  "_deepnote_index_column": "reanalysis_max_air_temp_k"
                },
                {
                  "Missing Values": 6,
                  "% of Total Values": 0.64,
                  "_deepnote_index_column": "reanalysis_dew_point_temp_k"
                },
                {
                  "Missing Values": 6,
                  "% of Total Values": 0.64,
                  "_deepnote_index_column": "reanalysis_avg_temp_k"
                },
                {
                  "Missing Values": 6,
                  "% of Total Values": 0.64,
                  "_deepnote_index_column": "reanalysis_air_temp_k"
                },
                {
                  "Missing Values": 6,
                  "% of Total Values": 0.64,
                  "_deepnote_index_column": "station_precip_mm"
                }
              ],
              "rows_bottom": null
            },
            "text/plain": "                                       Missing Values  % of Total Values\nndvi_ne                                           191              20.41\nndvi_nw                                            49               5.24\nndvi_se                                            19               2.03\nndvi_sw                                            19               2.03\nreanalysis_sat_precip_amt_mm                        9               0.96\nprecipitation_amt_mm                                9               0.96\nstation_min_temp_c                                  6               0.64\nstation_max_temp_c                                  6               0.64\nstation_diur_temp_rng_c                             6               0.64\nstation_avg_temp_c                                  6               0.64\nreanalysis_tdtr_k                                   6               0.64\nreanalysis_specific_humidity_g_per_kg               6               0.64\nreanalysis_precip_amt_kg_per_m2                     6               0.64\nreanalysis_relative_humidity_percent                6               0.64\nreanalysis_min_air_temp_k                           6               0.64\nreanalysis_max_air_temp_k                           6               0.64\nreanalysis_dew_point_temp_k                         6               0.64\nreanalysis_avg_temp_k                               6               0.64\nreanalysis_air_temp_k                               6               0.64\nstation_precip_mm                                   6               0.64",
            "text/html": "<div>\n<style scoped>\n    .dataframe tbody tr th:only-of-type {\n        vertical-align: middle;\n    }\n\n    .dataframe tbody tr th {\n        vertical-align: top;\n    }\n\n    .dataframe thead th {\n        text-align: right;\n    }\n</style>\n<table border=\"1\" class=\"dataframe\">\n  <thead>\n    <tr style=\"text-align: right;\">\n      <th></th>\n      <th>Missing Values</th>\n      <th>% of Total Values</th>\n    </tr>\n  </thead>\n  <tbody>\n    <tr>\n      <th>ndvi_ne</th>\n      <td>191</td>\n      <td>20.41</td>\n    </tr>\n    <tr>\n      <th>ndvi_nw</th>\n      <td>49</td>\n      <td>5.24</td>\n    </tr>\n    <tr>\n      <th>ndvi_se</th>\n      <td>19</td>\n      <td>2.03</td>\n    </tr>\n    <tr>\n      <th>ndvi_sw</th>\n      <td>19</td>\n      <td>2.03</td>\n    </tr>\n    <tr>\n      <th>reanalysis_sat_precip_amt_mm</th>\n      <td>9</td>\n      <td>0.96</td>\n    </tr>\n    <tr>\n      <th>precipitation_amt_mm</th>\n      <td>9</td>\n      <td>0.96</td>\n    </tr>\n    <tr>\n      <th>station_min_temp_c</th>\n      <td>6</td>\n      <td>0.64</td>\n    </tr>\n    <tr>\n      <th>station_max_temp_c</th>\n      <td>6</td>\n      <td>0.64</td>\n    </tr>\n    <tr>\n      <th>station_diur_temp_rng_c</th>\n      <td>6</td>\n      <td>0.64</td>\n    </tr>\n    <tr>\n      <th>station_avg_temp_c</th>\n      <td>6</td>\n      <td>0.64</td>\n    </tr>\n    <tr>\n      <th>reanalysis_tdtr_k</th>\n      <td>6</td>\n      <td>0.64</td>\n    </tr>\n    <tr>\n      <th>reanalysis_specific_humidity_g_per_kg</th>\n      <td>6</td>\n      <td>0.64</td>\n    </tr>\n    <tr>\n      <th>reanalysis_precip_amt_kg_per_m2</th>\n      <td>6</td>\n      <td>0.64</td>\n    </tr>\n    <tr>\n      <th>reanalysis_relative_humidity_percent</th>\n      <td>6</td>\n      <td>0.64</td>\n    </tr>\n    <tr>\n      <th>reanalysis_min_air_temp_k</th>\n      <td>6</td>\n      <td>0.64</td>\n    </tr>\n    <tr>\n      <th>reanalysis_max_air_temp_k</th>\n      <td>6</td>\n      <td>0.64</td>\n    </tr>\n    <tr>\n      <th>reanalysis_dew_point_temp_k</th>\n      <td>6</td>\n      <td>0.64</td>\n    </tr>\n    <tr>\n      <th>reanalysis_avg_temp_k</th>\n      <td>6</td>\n      <td>0.64</td>\n    </tr>\n    <tr>\n      <th>reanalysis_air_temp_k</th>\n      <td>6</td>\n      <td>0.64</td>\n    </tr>\n    <tr>\n      <th>station_precip_mm</th>\n      <td>6</td>\n      <td>0.64</td>\n    </tr>\n  </tbody>\n</table>\n</div>"
          },
          "metadata": {}
        }
      ],
      "execution_count": null
    },
    {
      "cell_type": "code",
      "metadata": {
        "tags": [],
        "cell_id": "00010-fbb45839-6f39-489a-b70b-3b0e53cc8045",
        "deepnote_to_be_reexecuted": false,
        "source_hash": "6d8bd0ba",
        "execution_millis": 324,
        "execution_start": 1619635567857,
        "deepnote_cell_type": "code"
      },
      "source": "plt.figure(figsize=(25, 10))\n(sj_train_features\n     .ndvi_ne\n     .plot\n     .line(lw=0.8))\n\nplt.title('Vegetation Index over Time')\nplt.xlabel('Time')",
      "outputs": [
        {
          "output_type": "execute_result",
          "execution_count": 9,
          "data": {
            "text/plain": "Text(0.5, 0, 'Time')"
          },
          "metadata": {}
        },
        {
          "data": {
            "text/plain": "<Figure size 1800x720 with 1 Axes>",
            "image/png": "[encoded data removed]"
          },
          "metadata": {
            "needs_background": "light",
            "image/png": {
              "width": 1440,
              "height": 604
            }
          },
          "output_type": "display_data"
        }
      ],
      "execution_count": null
    },
    {
      "cell_type": "code",
      "metadata": {
        "tags": [],
        "cell_id": "00011-cc4ee890-fec0-462e-8224-5c576b7bd7ad",
        "deepnote_to_be_reexecuted": false,
        "source_hash": "b9a36285",
        "execution_millis": 32,
        "execution_start": 1619635568167,
        "deepnote_cell_type": "code"
      },
      "source": "#Method to fill the missing value by the value before, since we are working on time series , this method seems to be\n#the best way to fill missing values .\nsj_train_features.fillna(method='ffill', inplace=True)\niq_train_features.fillna(method='ffill', inplace=True)",
      "outputs": [
        {
          "name": "stderr",
          "text": "/shared-libs/python3.7/py/lib/python3.7/site-packages/pandas/core/frame.py:4468: SettingWithCopyWarning: \nA value is trying to be set on a copy of a slice from a DataFrame\n\nSee the caveats in the documentation: https://pandas.pydata.org/pandas-docs/stable/user_guide/indexing.html#returning-a-view-versus-a-copy\n  downcast=downcast,\n",
          "output_type": "stream"
        }
      ],
      "execution_count": null
    },
    {
      "cell_type": "code",
      "metadata": {
        "tags": [],
        "cell_id": "00011-9ba50878-40b6-4bb5-8516-a9de19dd0eae",
        "deepnote_to_be_reexecuted": false,
        "source_hash": "8deabfc1",
        "execution_millis": 90,
        "execution_start": 1619635568174,
        "deepnote_cell_type": "code"
      },
      "source": "#Add the total cases column to the features data set .\nsj_train_features['total_cases'] = sj_train_labels.total_cases\niq_train_features['total_cases'] = iq_train_labels.total_cases",
      "outputs": [
        {
          "name": "stderr",
          "text": "/shared-libs/python3.7/py-core/lib/python3.7/site-packages/ipykernel_launcher.py:2: SettingWithCopyWarning: \nA value is trying to be set on a copy of a slice from a DataFrame.\nTry using .loc[row_indexer,col_indexer] = value instead\n\nSee the caveats in the documentation: https://pandas.pydata.org/pandas-docs/stable/user_guide/indexing.html#returning-a-view-versus-a-copy\n  \n/shared-libs/python3.7/py-core/lib/python3.7/site-packages/ipykernel_launcher.py:3: SettingWithCopyWarning: \nA value is trying to be set on a copy of a slice from a DataFrame.\nTry using .loc[row_indexer,col_indexer] = value instead\n\nSee the caveats in the documentation: https://pandas.pydata.org/pandas-docs/stable/user_guide/indexing.html#returning-a-view-versus-a-copy\n  This is separate from the ipykernel package so we can avoid doing imports until\n",
          "output_type": "stream"
        }
      ],
      "execution_count": null
    },
    {
      "cell_type": "code",
      "metadata": {
        "tags": [],
        "cell_id": "00014-c6884d6f-7433-4617-be14-ffa153ea0188",
        "deepnote_to_be_reexecuted": false,
        "source_hash": "98fb2b9",
        "execution_millis": 1,
        "execution_start": 1619635568232,
        "deepnote_cell_type": "code"
      },
      "source": "sj_correlations = sj_train_features.corr()\niq_correlations = iq_train_features.corr()",
      "outputs": [],
      "execution_count": null
    },
    {
      "cell_type": "code",
      "metadata": {
        "tags": [],
        "cell_id": "00016-cd9f202d-89da-43d3-8a84-f1e5946f2c8a",
        "deepnote_to_be_reexecuted": false,
        "source_hash": "bcebb96d",
        "execution_millis": 379,
        "execution_start": 1619635568233,
        "deepnote_cell_type": "code"
      },
      "source": "# San Juan\n(sj_correlations.total_cases\n     .drop('total_cases')\n     .sort_values(ascending=False)\n     .plot\n     .barh())",
      "outputs": [
        {
          "output_type": "execute_result",
          "execution_count": 13,
          "data": {
            "text/plain": "<AxesSubplot:>"
          },
          "metadata": {}
        },
        {
          "data": {
            "text/plain": "<Figure size 432x288 with 1 Axes>",
            "image/png": "[encoded data removed]"
          },
          "metadata": {
            "needs_background": "light",
            "image/png": {
              "width": 549,
              "height": 248
            }
          },
          "output_type": "display_data"
        }
      ],
      "execution_count": null
    },
    {
      "cell_type": "code",
      "metadata": {
        "tags": [],
        "cell_id": "00017-61a664d8-7b20-4561-a5fc-d40acc1653ad",
        "deepnote_to_be_reexecuted": false,
        "source_hash": "634c1017",
        "execution_millis": 379,
        "execution_start": 1619635568608,
        "deepnote_cell_type": "code"
      },
      "source": "# Iquitos\n(iq_correlations\n     .total_cases\n     .drop('total_cases')\n     .sort_values(ascending=False)\n     .plot\n     .barh())\n",
      "outputs": [
        {
          "output_type": "execute_result",
          "execution_count": 14,
          "data": {
            "text/plain": "<AxesSubplot:>"
          },
          "metadata": {}
        },
        {
          "data": {
            "text/plain": "<Figure size 432x288 with 1 Axes>",
            "image/png": "[encoded data removed]"
          },
          "metadata": {
            "needs_background": "light",
            "image/png": {
              "width": 557,
              "height": 248
            }
          },
          "output_type": "display_data"
        }
      ],
      "execution_count": null
    },
    {
      "cell_type": "markdown",
      "source": "",
      "metadata": {
        "tags": [],
        "cell_id": "00019-557afc46-073c-4e67-8bad-db97477d0c4a",
        "deepnote_cell_type": "text-cell-p"
      }
    },
    {
      "cell_type": "markdown",
      "source": "Conclusion for these two viz: \n- reanalysis_specific_humidity_g_per_kg and reanalysis_dew_point_temp_k ==&gt; strongly correlated (humid climate) \n- average, min and max temperature also\n- precipitation too \n\nthen , features  to keep : \n\nreanalysis_specific_humidity_g_per_kg\n\nreanalysis_dew_point_temp_k\n\nstation_avg_temp_c\n\nstation_min_temp_c",
      "metadata": {
        "tags": [],
        "cell_id": "00017-9d590f36-f890-4a57-a81d-678eac58e009",
        "deepnote_cell_type": "text-cell-p"
      }
    },
    {
      "cell_type": "code",
      "metadata": {
        "tags": [],
        "cell_id": "00019-6f540482-b926-4537-92a5-6f62920569f7",
        "deepnote_to_be_reexecuted": false,
        "source_hash": "595364a1",
        "execution_millis": 0,
        "execution_start": 1619635568989,
        "deepnote_cell_type": "code"
      },
      "source": "def preprocess_data(data_path, labels_path=None):\n    # load data and set index to city, year, weekofyear\n    df = pd.read_csv(data_path, index_col=[0, 1, 2])\n    \n    # select features we want\n    features = ['reanalysis_specific_humidity_g_per_kg', \n                 'reanalysis_dew_point_temp_k', \n                 'station_avg_temp_c', \n                 'station_min_temp_c']\n    df = df[features]\n    \n    # fill missing values\n    df.fillna(method='ffill', inplace=True)\n\n    # add labels to dataframe\n    if labels_path:\n        labels = pd.read_csv(labels_path, index_col=[0, 1, 2])\n        df = df.join(labels)\n    \n    # separate san juan and iquitos\n    sj = df.loc['sj']\n    iq = df.loc['iq']\n    \n    return sj, iq",
      "outputs": [],
      "execution_count": null
    },
    {
      "cell_type": "code",
      "metadata": {
        "tags": [],
        "cell_id": "00020-41f8129b-82a1-42c5-a564-92af1ccbde00",
        "deepnote_to_be_reexecuted": false,
        "source_hash": "50c3ddcb",
        "execution_millis": 13,
        "execution_start": 1619635568996,
        "deepnote_cell_type": "code"
      },
      "source": "sj, iq = preprocess_data('/work/dengue_features_train.csv',\n                                    labels_path=\"/work/dengue_labels_train.csv\")",
      "outputs": [],
      "execution_count": null
    },
    {
      "cell_type": "code",
      "metadata": {
        "tags": [],
        "cell_id": "00020-25afa023-4718-4664-b9bf-cf4aad90174b",
        "deepnote_to_be_reexecuted": false,
        "source_hash": "f1c4aba6",
        "execution_start": 1619635569017,
        "execution_millis": 8,
        "deepnote_cell_type": "code"
      },
      "source": "sj_train_labels.head()",
      "outputs": [
        {
          "output_type": "execute_result",
          "execution_count": 17,
          "data": {
            "application/vnd.deepnote.dataframe.v2+json": {
              "row_count": 5,
              "column_count": 1,
              "columns": [
                {
                  "name": "total_cases",
                  "dtype": "int64",
                  "stats": {
                    "unique_count": 4,
                    "nan_count": 0,
                    "min": "3",
                    "max": "6",
                    "histogram": [
                      {
                        "bin_start": 3,
                        "bin_end": 3.3,
                        "count": 1
                      },
                      {
                        "bin_start": 3.3,
                        "bin_end": 3.6,
                        "count": 0
                      },
                      {
                        "bin_start": 3.6,
                        "bin_end": 3.9,
                        "count": 0
                      },
                      {
                        "bin_start": 3.9,
                        "bin_end": 4.2,
                        "count": 2
                      },
                      {
                        "bin_start": 4.2,
                        "bin_end": 4.5,
                        "count": 0
                      },
                      {
                        "bin_start": 4.5,
                        "bin_end": 4.8,
                        "count": 0
                      },
                      {
                        "bin_start": 4.8,
                        "bin_end": 5.1,
                        "count": 1
                      },
                      {
                        "bin_start": 5.1,
                        "bin_end": 5.4,
                        "count": 0
                      },
                      {
                        "bin_start": 5.4,
                        "bin_end": 5.699999999999999,
                        "count": 0
                      },
                      {
                        "bin_start": 5.699999999999999,
                        "bin_end": 6,
                        "count": 1
                      }
                    ]
                  }
                },
                {
                  "name": "_deepnote_index_column",
                  "dtype": "object"
                }
              ],
              "rows_top": [
                {
                  "total_cases": 4,
                  "_deepnote_index_column": "(1990, 18)"
                },
                {
                  "total_cases": 5,
                  "_deepnote_index_column": "(1990, 19)"
                },
                {
                  "total_cases": 4,
                  "_deepnote_index_column": "(1990, 20)"
                },
                {
                  "total_cases": 3,
                  "_deepnote_index_column": "(1990, 21)"
                },
                {
                  "total_cases": 6,
                  "_deepnote_index_column": "(1990, 22)"
                }
              ],
              "rows_bottom": null
            },
            "text/plain": "                 total_cases\nyear weekofyear             \n1990 18                    4\n     19                    5\n     20                    4\n     21                    3\n     22                    6",
            "text/html": "<div>\n<style scoped>\n    .dataframe tbody tr th:only-of-type {\n        vertical-align: middle;\n    }\n\n    .dataframe tbody tr th {\n        vertical-align: top;\n    }\n\n    .dataframe thead th {\n        text-align: right;\n    }\n</style>\n<table border=\"1\" class=\"dataframe\">\n  <thead>\n    <tr style=\"text-align: right;\">\n      <th></th>\n      <th></th>\n      <th>total_cases</th>\n    </tr>\n    <tr>\n      <th>year</th>\n      <th>weekofyear</th>\n      <th></th>\n    </tr>\n  </thead>\n  <tbody>\n    <tr>\n      <th rowspan=\"5\" valign=\"top\">1990</th>\n      <th>18</th>\n      <td>4</td>\n    </tr>\n    <tr>\n      <th>19</th>\n      <td>5</td>\n    </tr>\n    <tr>\n      <th>20</th>\n      <td>4</td>\n    </tr>\n    <tr>\n      <th>21</th>\n      <td>3</td>\n    </tr>\n    <tr>\n      <th>22</th>\n      <td>6</td>\n    </tr>\n  </tbody>\n</table>\n</div>"
          },
          "metadata": {}
        }
      ],
      "execution_count": null
    },
    {
      "cell_type": "code",
      "metadata": {
        "tags": [],
        "cell_id": "00020-a08662e1-dc4d-4dec-9874-94918517bf5c",
        "deepnote_to_be_reexecuted": false,
        "source_hash": "556a9d0",
        "execution_millis": 899,
        "execution_start": 1619635569028,
        "deepnote_cell_type": "code"
      },
      "source": "#Standardization of our dataset, we will use San juan as example here\nkeepCols =  ['ndvi_ne', 'ndvi_nw', 'ndvi_se', 'ndvi_sw', 'precipitation_amt_mm', 'reanalysis_air_temp_k', 'reanalysis_avg_temp_k', 'reanalysis_dew_point_temp_k', \n'reanalysis_max_air_temp_k', 'reanalysis_min_air_temp_k', 'reanalysis_precip_amt_kg_per_m2', 'reanalysis_relative_humidity_percent','reanalysis_sat_precip_amt_mm', \n'reanalysis_specific_humidity_g_per_kg', 'reanalysis_tdtr_k', 'station_avg_temp_c', 'station_diur_temp_rng_c', 'station_max_temp_c', 'station_min_temp_c', \t\n'station_precip_mm']\n\nscaler = StandardScaler()\nscaled_df = scaler.fit_transform(sj_train_features[keepCols])\nscaled_df_sj = pd.DataFrame(scaled_df, columns=keepCols)\n\nplt.rcParams[\"figure.figsize\"]=[15,10]\nplt.subplot(211)\nplt.title('Distribution of Data before Standardization')\nsns.kdeplot(data=sj_train_features[keepCols], legend=None, palette=\"Paired\")\nplt.subplot(212)\nplt.title('Distribution of Data after Standardization')\nsns.kdeplot(data=scaled_df_sj, legend=None, palette=\"Paired\")\nplt.draw()",
      "outputs": [
        {
          "data": {
            "text/plain": "<Figure size 1080x720 with 2 Axes>",
            "image/png": "[encoded data removed]"
          },
          "metadata": {
            "needs_background": "light",
            "image/png": {
              "width": 900,
              "height": 590
            }
          },
          "output_type": "display_data"
        }
      ],
      "execution_count": null
    },
    {
      "cell_type": "markdown",
      "source": "# Random Forest",
      "metadata": {
        "tags": [],
        "cell_id": "00021-aeeedb30-7fd8-4a7a-b738-89b9d888398b",
        "deepnote_cell_type": "text-cell-h1"
      }
    },
    {
      "cell_type": "markdown",
      "source": "",
      "metadata": {
        "tags": [],
        "cell_id": "00022-76903d05-c241-4a49-9df2-81f7511fcab0",
        "deepnote_cell_type": "text-cell-p"
      }
    },
    {
      "cell_type": "code",
      "metadata": {
        "tags": [],
        "cell_id": "00021-bf8cc260-3e10-4526-963f-42b9241a1774",
        "deepnote_to_be_reexecuted": false,
        "source_hash": "b5bc0c45",
        "execution_millis": 3,
        "execution_start": 1619635569917,
        "deepnote_cell_type": "code"
      },
      "source": "randomforest=RandomForestRegressor(n_estimators=30)",
      "outputs": [],
      "execution_count": null
    },
    {
      "cell_type": "code",
      "metadata": {
        "tags": [],
        "cell_id": "00022-e04cb8f9-b716-470c-830c-00768a1334f8",
        "deepnote_to_be_reexecuted": false,
        "source_hash": "3106c3c4",
        "execution_millis": 336,
        "execution_start": 1619635569953,
        "deepnote_cell_type": "code"
      },
      "source": "scaled_df_sj.head()",
      "outputs": [
        {
          "output_type": "execute_result",
          "execution_count": 20,
          "data": {
            "application/vnd.deepnote.dataframe.v2+json": {
              "row_count": 5,
              "column_count": 20,
              "columns": [
                {
                  "name": "ndvi_ne",
                  "dtype": "float64",
                  "stats": {
                    "unique_count": 5,
                    "nan_count": 0,
                    "min": "-0.24297045744953905",
                    "max": "1.32067968333219",
                    "histogram": [
                      {
                        "bin_start": -0.24297045744953905,
                        "bin_end": -0.08660544337136614,
                        "count": 1
                      },
                      {
                        "bin_start": -0.08660544337136614,
                        "bin_end": 0.06975957070680677,
                        "count": 0
                      },
                      {
                        "bin_start": 0.06975957070680677,
                        "bin_end": 0.22612458478497965,
                        "count": 0
                      },
                      {
                        "bin_start": 0.22612458478497965,
                        "bin_end": 0.3824895988631526,
                        "count": 0
                      },
                      {
                        "bin_start": 0.3824895988631526,
                        "bin_end": 0.5388546129413255,
                        "count": 0
                      },
                      {
                        "bin_start": 0.5388546129413255,
                        "bin_end": 0.6952196270194984,
                        "count": 2
                      },
                      {
                        "bin_start": 0.6952196270194984,
                        "bin_end": 0.8515846410976713,
                        "count": 0
                      },
                      {
                        "bin_start": 0.8515846410976713,
                        "bin_end": 1.0079496551758442,
                        "count": 0
                      },
                      {
                        "bin_start": 1.0079496551758442,
                        "bin_end": 1.1643146692540172,
                        "count": 1
                      },
                      {
                        "bin_start": 1.1643146692540172,
                        "bin_end": 1.32067968333219,
                        "count": 1
                      }
                    ]
                  }
                },
                {
                  "name": "ndvi_nw",
                  "dtype": "float64",
                  "stats": {
                    "unique_count": 5,
                    "nan_count": 0,
                    "min": "0.40673220570824575",
                    "max": "2.1402543143267296",
                    "histogram": [
                      {
                        "bin_start": 0.40673220570824575,
                        "bin_end": 0.5800844165700941,
                        "count": 1
                      },
                      {
                        "bin_start": 0.5800844165700941,
                        "bin_end": 0.7534366274319425,
                        "count": 0
                      },
                      {
                        "bin_start": 0.7534366274319425,
                        "bin_end": 0.9267888382937909,
                        "count": 1
                      },
                      {
                        "bin_start": 0.9267888382937909,
                        "bin_end": 1.1001410491556394,
                        "count": 0
                      },
                      {
                        "bin_start": 1.1001410491556394,
                        "bin_end": 1.2734932600174877,
                        "count": 1
                      },
                      {
                        "bin_start": 1.2734932600174877,
                        "bin_end": 1.4468454708793361,
                        "count": 0
                      },
                      {
                        "bin_start": 1.4468454708793361,
                        "bin_end": 1.6201976817411845,
                        "count": 0
                      },
                      {
                        "bin_start": 1.6201976817411845,
                        "bin_end": 1.7935498926030329,
                        "count": 0
                      },
                      {
                        "bin_start": 1.7935498926030329,
                        "bin_end": 1.9669021034648813,
                        "count": 1
                      },
                      {
                        "bin_start": 1.9669021034648813,
                        "bin_end": 2.1402543143267296,
                        "count": 1
                      }
                    ]
                  }
                },
                {
                  "name": "ndvi_se",
                  "dtype": "float64",
                  "stats": {
                    "unique_count": 5,
                    "nan_count": 0,
                    "min": "-0.33047568350735207",
                    "max": "1.3027319163324118",
                    "histogram": [
                      {
                        "bin_start": -0.33047568350735207,
                        "bin_end": -0.1671549235233757,
                        "count": 2
                      },
                      {
                        "bin_start": -0.1671549235233757,
                        "bin_end": -0.0038341635393993045,
                        "count": 0
                      },
                      {
                        "bin_start": -0.0038341635393993045,
                        "bin_end": 0.15948659644457708,
                        "count": 0
                      },
                      {
                        "bin_start": 0.15948659644457708,
                        "bin_end": 0.32280735642855346,
                        "count": 0
                      },
                      {
                        "bin_start": 0.32280735642855346,
                        "bin_end": 0.4861281164125298,
                        "count": 1
                      },
                      {
                        "bin_start": 0.4861281164125298,
                        "bin_end": 0.6494488763965063,
                        "count": 0
                      },
                      {
                        "bin_start": 0.6494488763965063,
                        "bin_end": 0.8127696363804826,
                        "count": 0
                      },
                      {
                        "bin_start": 0.8127696363804826,
                        "bin_end": 0.9760903963644589,
                        "count": 1
                      },
                      {
                        "bin_start": 0.9760903963644589,
                        "bin_end": 1.1394111563484353,
                        "count": 0
                      },
                      {
                        "bin_start": 1.1394111563484353,
                        "bin_end": 1.3027319163324118,
                        "count": 1
                      }
                    ]
                  }
                },
                {
                  "name": "ndvi_sw",
                  "dtype": "float64",
                  "stats": {
                    "unique_count": 5,
                    "nan_count": 0,
                    "min": "-0.18911539036141486",
                    "max": "1.4572181613375341",
                    "histogram": [
                      {
                        "bin_start": -0.18911539036141486,
                        "bin_end": -0.024482035191519952,
                        "count": 1
                      },
                      {
                        "bin_start": -0.024482035191519952,
                        "bin_end": 0.14015131997837496,
                        "count": 1
                      },
                      {
                        "bin_start": 0.14015131997837496,
                        "bin_end": 0.3047846751482699,
                        "count": 1
                      },
                      {
                        "bin_start": 0.3047846751482699,
                        "bin_end": 0.46941803031816476,
                        "count": 0
                      },
                      {
                        "bin_start": 0.46941803031816476,
                        "bin_end": 0.6340513854880596,
                        "count": 0
                      },
                      {
                        "bin_start": 0.6340513854880596,
                        "bin_end": 0.7986847406579546,
                        "count": 0
                      },
                      {
                        "bin_start": 0.7986847406579546,
                        "bin_end": 0.9633180958278496,
                        "count": 0
                      },
                      {
                        "bin_start": 0.9633180958278496,
                        "bin_end": 1.1279514509977444,
                        "count": 0
                      },
                      {
                        "bin_start": 1.1279514509977444,
                        "bin_end": 1.2925848061676393,
                        "count": 1
                      },
                      {
                        "bin_start": 1.2925848061676393,
                        "bin_end": 1.4572181613375341,
                        "count": 1
                      }
                    ]
                  }
                },
                {
                  "name": "precipitation_amt_mm",
                  "dtype": "float64",
                  "stats": {
                    "unique_count": 5,
                    "nan_count": 0,
                    "min": "-0.6228013841950437",
                    "max": "-0.01739773783191082",
                    "histogram": [
                      {
                        "bin_start": -0.6228013841950437,
                        "bin_end": -0.5622610195587304,
                        "count": 1
                      },
                      {
                        "bin_start": -0.5622610195587304,
                        "bin_end": -0.5017206549224171,
                        "count": 1
                      },
                      {
                        "bin_start": -0.5017206549224171,
                        "bin_end": -0.44118029028610384,
                        "count": 1
                      },
                      {
                        "bin_start": -0.44118029028610384,
                        "bin_end": -0.38063992564979054,
                        "count": 0
                      },
                      {
                        "bin_start": -0.38063992564979054,
                        "bin_end": -0.32009956101347725,
                        "count": 0
                      },
                      {
                        "bin_start": -0.32009956101347725,
                        "bin_end": -0.25955919637716396,
                        "count": 1
                      },
                      {
                        "bin_start": -0.25955919637716396,
                        "bin_end": -0.19901883174085067,
                        "count": 0
                      },
                      {
                        "bin_start": -0.19901883174085067,
                        "bin_end": -0.13847846710453737,
                        "count": 0
                      },
                      {
                        "bin_start": -0.13847846710453737,
                        "bin_end": -0.07793810246822408,
                        "count": 0
                      },
                      {
                        "bin_start": -0.07793810246822408,
                        "bin_end": -0.01739773783191082,
                        "count": 1
                      }
                    ]
                  }
                },
                {
                  "name": "reanalysis_air_temp_k",
                  "dtype": "float64",
                  "stats": {
                    "unique_count": 5,
                    "nan_count": 0,
                    "min": "-1.2820154714108143",
                    "max": "0.29137775583181597",
                    "histogram": [
                      {
                        "bin_start": -1.2820154714108143,
                        "bin_end": -1.1246761486865513,
                        "count": 1
                      },
                      {
                        "bin_start": -1.1246761486865513,
                        "bin_end": -0.9673368259622882,
                        "count": 0
                      },
                      {
                        "bin_start": -0.9673368259622882,
                        "bin_end": -0.8099975032380251,
                        "count": 0
                      },
                      {
                        "bin_start": -0.8099975032380251,
                        "bin_end": -0.6526581805137621,
                        "count": 1
                      },
                      {
                        "bin_start": -0.6526581805137621,
                        "bin_end": -0.49531885778949913,
                        "count": 0
                      },
                      {
                        "bin_start": -0.49531885778949913,
                        "bin_end": -0.33797953506523604,
                        "count": 0
                      },
                      {
                        "bin_start": -0.33797953506523604,
                        "bin_end": -0.18064021234097294,
                        "count": 1
                      },
                      {
                        "bin_start": -0.18064021234097294,
                        "bin_end": -0.023300889616709952,
                        "count": 1
                      },
                      {
                        "bin_start": -0.023300889616709952,
                        "bin_end": 0.13403843310755303,
                        "count": 0
                      },
                      {
                        "bin_start": 0.13403843310755303,
                        "bin_end": 0.29137775583181597,
                        "count": 1
                      }
                    ]
                  }
                },
                {
                  "name": "reanalysis_avg_temp_k",
                  "dtype": "float64",
                  "stats": {
                    "unique_count": 5,
                    "nan_count": 0,
                    "min": "-1.2538984468766095",
                    "max": "0.32214559539929516",
                    "histogram": [
                      {
                        "bin_start": -1.2538984468766095,
                        "bin_end": -1.096294042649019,
                        "count": 1
                      },
                      {
                        "bin_start": -1.096294042649019,
                        "bin_end": -0.9386896384214285,
                        "count": 0
                      },
                      {
                        "bin_start": -0.9386896384214285,
                        "bin_end": -0.7810852341938381,
                        "count": 0
                      },
                      {
                        "bin_start": -0.7810852341938381,
                        "bin_end": -0.6234808299662477,
                        "count": 1
                      },
                      {
                        "bin_start": -0.6234808299662477,
                        "bin_end": -0.4658764257386572,
                        "count": 0
                      },
                      {
                        "bin_start": -0.4658764257386572,
                        "bin_end": -0.3082720215110668,
                        "count": 1
                      },
                      {
                        "bin_start": -0.3082720215110668,
                        "bin_end": -0.15066761728347622,
                        "count": 0
                      },
                      {
                        "bin_start": -0.15066761728347622,
                        "bin_end": 0.006936786944114148,
                        "count": 1
                      },
                      {
                        "bin_start": 0.006936786944114148,
                        "bin_end": 0.16454119117170452,
                        "count": 0
                      },
                      {
                        "bin_start": 0.16454119117170452,
                        "bin_end": 0.32214559539929516,
                        "count": 1
                      }
                    ]
                  }
                },
                {
                  "name": "reanalysis_dew_point_temp_k",
                  "dtype": "float64",
                  "stats": {
                    "unique_count": 5,
                    "nan_count": 0,
                    "min": "-1.7144966190507138",
                    "max": "0.4567142854913914",
                    "histogram": [
                      {
                        "bin_start": -1.7144966190507138,
                        "bin_end": -1.4973755285965034,
                        "count": 1
                      },
                      {
                        "bin_start": -1.4973755285965034,
                        "bin_end": -1.280254438142293,
                        "count": 0
                      },
                      {
                        "bin_start": -1.280254438142293,
                        "bin_end": -1.0631333476880822,
                        "count": 0
                      },
                      {
                        "bin_start": -1.0631333476880822,
                        "bin_end": -0.8460122572338717,
                        "count": 0
                      },
                      {
                        "bin_start": -0.8460122572338717,
                        "bin_end": -0.6288911667796613,
                        "count": 1
                      },
                      {
                        "bin_start": -0.6288911667796613,
                        "bin_end": -0.4117700763254506,
                        "count": 0
                      },
                      {
                        "bin_start": -0.4117700763254506,
                        "bin_end": -0.19464898587124013,
                        "count": 0
                      },
                      {
                        "bin_start": -0.19464898587124013,
                        "bin_end": 0.02247210458297033,
                        "count": 0
                      },
                      {
                        "bin_start": 0.02247210458297033,
                        "bin_end": 0.2395931950371808,
                        "count": 2
                      },
                      {
                        "bin_start": 0.2395931950371808,
                        "bin_end": 0.4567142854913914,
                        "count": 1
                      }
                    ]
                  }
                },
                {
                  "name": "reanalysis_max_air_temp_k",
                  "dtype": "float64",
                  "stats": {
                    "unique_count": 5,
                    "nan_count": 0,
                    "min": "-1.2656234677212888",
                    "max": "0.4026366504070048",
                    "histogram": [
                      {
                        "bin_start": -1.2656234677212888,
                        "bin_end": -1.0987974559084595,
                        "count": 1
                      },
                      {
                        "bin_start": -1.0987974559084595,
                        "bin_end": -0.93197144409563,
                        "count": 0
                      },
                      {
                        "bin_start": -0.93197144409563,
                        "bin_end": -0.7651454322828006,
                        "count": 0
                      },
                      {
                        "bin_start": -0.7651454322828006,
                        "bin_end": -0.5983194204699713,
                        "count": 1
                      },
                      {
                        "bin_start": -0.5983194204699713,
                        "bin_end": -0.43149340865714203,
                        "count": 0
                      },
                      {
                        "bin_start": -0.43149340865714203,
                        "bin_end": -0.2646673968443125,
                        "count": 1
                      },
                      {
                        "bin_start": -0.2646673968443125,
                        "bin_end": -0.09784138503148321,
                        "count": 0
                      },
                      {
                        "bin_start": -0.09784138503148321,
                        "bin_end": 0.06898462678134609,
                        "count": 1
                      },
                      {
                        "bin_start": 0.06898462678134609,
                        "bin_end": 0.2358106385941754,
                        "count": 0
                      },
                      {
                        "bin_start": 0.2358106385941754,
                        "bin_end": 0.4026366504070048,
                        "count": 1
                      }
                    ]
                  }
                },
                {
                  "name": "reanalysis_min_air_temp_k",
                  "dtype": "float64",
                  "stats": {
                    "unique_count": 5,
                    "nan_count": 0,
                    "min": "-1.079864459582934",
                    "max": "0.15615282463546215",
                    "histogram": [
                      {
                        "bin_start": -1.079864459582934,
                        "bin_end": -0.9562627311610945,
                        "count": 1
                      },
                      {
                        "bin_start": -0.9562627311610945,
                        "bin_end": -0.8326610027392548,
                        "count": 0
                      },
                      {
                        "bin_start": -0.8326610027392548,
                        "bin_end": -0.7090592743174152,
                        "count": 0
                      },
                      {
                        "bin_start": -0.7090592743174152,
                        "bin_end": -0.5854575458955755,
                        "count": 1
                      },
                      {
                        "bin_start": -0.5854575458955755,
                        "bin_end": -0.46185581747373594,
                        "count": 0
                      },
                      {
                        "bin_start": -0.46185581747373594,
                        "bin_end": -0.33825408905189636,
                        "count": 0
                      },
                      {
                        "bin_start": -0.33825408905189636,
                        "bin_end": -0.21465236063005666,
                        "count": 1
                      },
                      {
                        "bin_start": -0.21465236063005666,
                        "bin_end": -0.09105063220821707,
                        "count": 0
                      },
                      {
                        "bin_start": -0.09105063220821707,
                        "bin_end": 0.03255109621362262,
                        "count": 1
                      },
                      {
                        "bin_start": 0.03255109621362262,
                        "bin_end": 0.15615282463546215,
                        "count": 1
                      }
                    ]
                  }
                },
                {
                  "name": "reanalysis_precip_amt_kg_per_m2",
                  "dtype": "float64",
                  "stats": {
                    "unique_count": 5,
                    "nan_count": 0,
                    "min": "-0.5125152545778903",
                    "max": "0.04502093935888024",
                    "histogram": [
                      {
                        "bin_start": -0.5125152545778903,
                        "bin_end": -0.4567616351842132,
                        "count": 2
                      },
                      {
                        "bin_start": -0.4567616351842132,
                        "bin_end": -0.4010080157905362,
                        "count": 0
                      },
                      {
                        "bin_start": -0.4010080157905362,
                        "bin_end": -0.3452543963968591,
                        "count": 1
                      },
                      {
                        "bin_start": -0.3452543963968591,
                        "bin_end": -0.2895007770031821,
                        "count": 0
                      },
                      {
                        "bin_start": -0.2895007770031821,
                        "bin_end": -0.23374715760950504,
                        "count": 0
                      },
                      {
                        "bin_start": -0.23374715760950504,
                        "bin_end": -0.17799353821582797,
                        "count": 0
                      },
                      {
                        "bin_start": -0.17799353821582797,
                        "bin_end": -0.12223991882215096,
                        "count": 0
                      },
                      {
                        "bin_start": -0.12223991882215096,
                        "bin_end": -0.0664862994284739,
                        "count": 1
                      },
                      {
                        "bin_start": -0.0664862994284739,
                        "bin_end": -0.010732680034796882,
                        "count": 0
                      },
                      {
                        "bin_start": -0.010732680034796882,
                        "bin_end": 0.04502093935888024,
                        "count": 1
                      }
                    ]
                  }
                },
                {
                  "name": "reanalysis_relative_humidity_percent",
                  "dtype": "float64",
                  "stats": {
                    "unique_count": 5,
                    "nan_count": 0,
                    "min": "-1.5384752091228242",
                    "max": "1.0294320449795873",
                    "histogram": [
                      {
                        "bin_start": -1.5384752091228242,
                        "bin_end": -1.2816844837125831,
                        "count": 1
                      },
                      {
                        "bin_start": -1.2816844837125831,
                        "bin_end": -1.0248937583023419,
                        "count": 0
                      },
                      {
                        "bin_start": -1.0248937583023419,
                        "bin_end": -0.7681030328921007,
                        "count": 0
                      },
                      {
                        "bin_start": -0.7681030328921007,
                        "bin_end": -0.5113123074818595,
                        "count": 0
                      },
                      {
                        "bin_start": -0.5113123074818595,
                        "bin_end": -0.25452158207161824,
                        "count": 1
                      },
                      {
                        "bin_start": -0.25452158207161824,
                        "bin_end": 0.0022691433386228255,
                        "count": 0
                      },
                      {
                        "bin_start": 0.0022691433386228255,
                        "bin_end": 0.2590598687488639,
                        "count": 0
                      },
                      {
                        "bin_start": 0.2590598687488639,
                        "bin_end": 0.5158505941591052,
                        "count": 0
                      },
                      {
                        "bin_start": 0.5158505941591052,
                        "bin_end": 0.7726413195693465,
                        "count": 2
                      },
                      {
                        "bin_start": 0.7726413195693465,
                        "bin_end": 1.0294320449795873,
                        "count": 1
                      }
                    ]
                  }
                },
                {
                  "name": "reanalysis_sat_precip_amt_mm",
                  "dtype": "float64",
                  "stats": {
                    "unique_count": 5,
                    "nan_count": 0,
                    "min": "-0.6228013841950437",
                    "max": "-0.01739773783191082",
                    "histogram": [
                      {
                        "bin_start": -0.6228013841950437,
                        "bin_end": -0.5622610195587304,
                        "count": 1
                      },
                      {
                        "bin_start": -0.5622610195587304,
                        "bin_end": -0.5017206549224171,
                        "count": 1
                      },
                      {
                        "bin_start": -0.5017206549224171,
                        "bin_end": -0.44118029028610384,
                        "count": 1
                      },
                      {
                        "bin_start": -0.44118029028610384,
                        "bin_end": -0.38063992564979054,
                        "count": 0
                      },
                      {
                        "bin_start": -0.38063992564979054,
                        "bin_end": -0.32009956101347725,
                        "count": 0
                      },
                      {
                        "bin_start": -0.32009956101347725,
                        "bin_end": -0.25955919637716396,
                        "count": 1
                      },
                      {
                        "bin_start": -0.25955919637716396,
                        "bin_end": -0.19901883174085067,
                        "count": 0
                      },
                      {
                        "bin_start": -0.19901883174085067,
                        "bin_end": -0.13847846710453737,
                        "count": 0
                      },
                      {
                        "bin_start": -0.13847846710453737,
                        "bin_end": -0.07793810246822408,
                        "count": 0
                      },
                      {
                        "bin_start": -0.07793810246822408,
                        "bin_end": -0.01739773783191082,
                        "count": 1
                      }
                    ]
                  }
                },
                {
                  "name": "reanalysis_specific_humidity_g_per_kg",
                  "dtype": "float64",
                  "stats": {
                    "unique_count": 5,
                    "nan_count": 0,
                    "min": "-1.6249718186177906",
                    "max": "0.4247035733080665",
                    "histogram": [
                      {
                        "bin_start": -1.6249718186177906,
                        "bin_end": -1.4200042794252048,
                        "count": 1
                      },
                      {
                        "bin_start": -1.4200042794252048,
                        "bin_end": -1.2150367402326192,
                        "count": 0
                      },
                      {
                        "bin_start": -1.2150367402326192,
                        "bin_end": -1.0100692010400334,
                        "count": 0
                      },
                      {
                        "bin_start": -1.0100692010400334,
                        "bin_end": -0.8051016618474477,
                        "count": 0
                      },
                      {
                        "bin_start": -0.8051016618474477,
                        "bin_end": -0.600134122654862,
                        "count": 1
                      },
                      {
                        "bin_start": -0.600134122654862,
                        "bin_end": -0.3951665834622762,
                        "count": 0
                      },
                      {
                        "bin_start": -0.3951665834622762,
                        "bin_end": -0.1901990442696906,
                        "count": 0
                      },
                      {
                        "bin_start": -0.1901990442696906,
                        "bin_end": 0.014768494922895226,
                        "count": 0
                      },
                      {
                        "bin_start": 0.014768494922895226,
                        "bin_end": 0.21973603411548104,
                        "count": 2
                      },
                      {
                        "bin_start": 0.21973603411548104,
                        "bin_end": 0.4247035733080665,
                        "count": 1
                      }
                    ]
                  }
                },
                {
                  "name": "reanalysis_tdtr_k",
                  "dtype": "float64",
                  "stats": {
                    "unique_count": 5,
                    "nan_count": 0,
                    "min": "-0.4311314212014774",
                    "max": "1.003418917394495",
                    "histogram": [
                      {
                        "bin_start": -0.4311314212014774,
                        "bin_end": -0.28767638734188017,
                        "count": 1
                      },
                      {
                        "bin_start": -0.28767638734188017,
                        "bin_end": -0.14422135348228293,
                        "count": 2
                      },
                      {
                        "bin_start": -0.14422135348228293,
                        "bin_end": -0.0007663196226856961,
                        "count": 0
                      },
                      {
                        "bin_start": -0.0007663196226856961,
                        "bin_end": 0.14268871423691154,
                        "count": 0
                      },
                      {
                        "bin_start": 0.14268871423691154,
                        "bin_end": 0.2861437480965088,
                        "count": 1
                      },
                      {
                        "bin_start": 0.2861437480965088,
                        "bin_end": 0.429598781956106,
                        "count": 0
                      },
                      {
                        "bin_start": 0.429598781956106,
                        "bin_end": 0.5730538158157032,
                        "count": 0
                      },
                      {
                        "bin_start": 0.5730538158157032,
                        "bin_end": 0.7165088496753005,
                        "count": 0
                      },
                      {
                        "bin_start": 0.7165088496753005,
                        "bin_end": 0.8599638835348977,
                        "count": 0
                      },
                      {
                        "bin_start": 0.8599638835348977,
                        "bin_end": 1.003418917394495,
                        "count": 1
                      }
                    ]
                  }
                },
                {
                  "name": "station_avg_temp_c",
                  "dtype": "float64",
                  "stats": {
                    "unique_count": 4,
                    "nan_count": 0,
                    "min": "-1.1004093539993105",
                    "max": "1.3742733799729918",
                    "histogram": [
                      {
                        "bin_start": -1.1004093539993105,
                        "bin_end": -0.8529410806020803,
                        "count": 1
                      },
                      {
                        "bin_start": -0.8529410806020803,
                        "bin_end": -0.6054728072048501,
                        "count": 0
                      },
                      {
                        "bin_start": -0.6054728072048501,
                        "bin_end": -0.3580045338076199,
                        "count": 0
                      },
                      {
                        "bin_start": -0.3580045338076199,
                        "bin_end": -0.11053626041038966,
                        "count": 2
                      },
                      {
                        "bin_start": -0.11053626041038966,
                        "bin_end": 0.13693201298684055,
                        "count": 0
                      },
                      {
                        "bin_start": 0.13693201298684055,
                        "bin_end": 0.38440028638407076,
                        "count": 1
                      },
                      {
                        "bin_start": 0.38440028638407076,
                        "bin_end": 0.631868559781301,
                        "count": 0
                      },
                      {
                        "bin_start": 0.631868559781301,
                        "bin_end": 0.8793368331785312,
                        "count": 0
                      },
                      {
                        "bin_start": 0.8793368331785312,
                        "bin_end": 1.1268051065757614,
                        "count": 0
                      },
                      {
                        "bin_start": 1.1268051065757614,
                        "bin_end": 1.3742733799729918,
                        "count": 1
                      }
                    ]
                  }
                },
                {
                  "name": "station_diur_temp_rng_c",
                  "dtype": "float64",
                  "stats": {
                    "unique_count": 5,
                    "nan_count": 0,
                    "min": "-0.45981068389077207",
                    "max": "3.134700452996545",
                    "histogram": [
                      {
                        "bin_start": -0.45981068389077207,
                        "bin_end": -0.10035957020204034,
                        "count": 2
                      },
                      {
                        "bin_start": -0.10035957020204034,
                        "bin_end": 0.2590915434866914,
                        "count": 2
                      },
                      {
                        "bin_start": 0.2590915434866914,
                        "bin_end": 0.6185426571754231,
                        "count": 0
                      },
                      {
                        "bin_start": 0.6185426571754231,
                        "bin_end": 0.9779937708641548,
                        "count": 0
                      },
                      {
                        "bin_start": 0.9779937708641548,
                        "bin_end": 1.3374448845528866,
                        "count": 0
                      },
                      {
                        "bin_start": 1.3374448845528866,
                        "bin_end": 1.6968959982416183,
                        "count": 0
                      },
                      {
                        "bin_start": 1.6968959982416183,
                        "bin_end": 2.05634711193035,
                        "count": 0
                      },
                      {
                        "bin_start": 2.05634711193035,
                        "bin_end": 2.4157982256190818,
                        "count": 0
                      },
                      {
                        "bin_start": 2.4157982256190818,
                        "bin_end": 2.7752493393078135,
                        "count": 0
                      },
                      {
                        "bin_start": 2.7752493393078135,
                        "bin_end": 3.134700452996545,
                        "count": 1
                      }
                    ]
                  }
                },
                {
                  "name": "station_max_temp_c",
                  "dtype": "float64",
                  "stats": {
                    "unique_count": 5,
                    "nan_count": 0,
                    "min": "-1.2786867617642501",
                    "max": "1.9805840661211294",
                    "histogram": [
                      {
                        "bin_start": -1.2786867617642501,
                        "bin_end": -0.9527596789757121,
                        "count": 1
                      },
                      {
                        "bin_start": -0.9527596789757121,
                        "bin_end": -0.6268325961871741,
                        "count": 0
                      },
                      {
                        "bin_start": -0.6268325961871741,
                        "bin_end": -0.30090551339863614,
                        "count": 0
                      },
                      {
                        "bin_start": -0.30090551339863614,
                        "bin_end": 0.025021569389901854,
                        "count": 0
                      },
                      {
                        "bin_start": 0.025021569389901854,
                        "bin_end": 0.35094865217843974,
                        "count": 1
                      },
                      {
                        "bin_start": 0.35094865217843974,
                        "bin_end": 0.6768757349669778,
                        "count": 1
                      },
                      {
                        "bin_start": 0.6768757349669778,
                        "bin_end": 1.002802817755516,
                        "count": 1
                      },
                      {
                        "bin_start": 1.002802817755516,
                        "bin_end": 1.3287299005440538,
                        "count": 0
                      },
                      {
                        "bin_start": 1.3287299005440538,
                        "bin_end": 1.6546569833325917,
                        "count": 0
                      },
                      {
                        "bin_start": 1.6546569833325917,
                        "bin_end": 1.9805840661211294,
                        "count": 1
                      }
                    ]
                  }
                },
                {
                  "name": "station_min_temp_c",
                  "dtype": "float64",
                  "stats": {
                    "unique_count": 5,
                    "nan_count": 0,
                    "min": "-1.7230536927239966",
                    "max": "0.867487987638308",
                    "histogram": [
                      {
                        "bin_start": -1.7230536927239966,
                        "bin_end": -1.463999524687766,
                        "count": 1
                      },
                      {
                        "bin_start": -1.463999524687766,
                        "bin_end": -1.2049453566515356,
                        "count": 0
                      },
                      {
                        "bin_start": -1.2049453566515356,
                        "bin_end": -0.9458911886153051,
                        "count": 0
                      },
                      {
                        "bin_start": -0.9458911886153051,
                        "bin_end": -0.6868370205790746,
                        "count": 0
                      },
                      {
                        "bin_start": -0.6868370205790746,
                        "bin_end": -0.427782852542844,
                        "count": 0
                      },
                      {
                        "bin_start": -0.427782852542844,
                        "bin_end": -0.1687286845066136,
                        "count": 1
                      },
                      {
                        "bin_start": -0.1687286845066136,
                        "bin_end": 0.09032548352961678,
                        "count": 0
                      },
                      {
                        "bin_start": 0.09032548352961678,
                        "bin_end": 0.3493796515658474,
                        "count": 1
                      },
                      {
                        "bin_start": 0.3493796515658474,
                        "bin_end": 0.608433819602078,
                        "count": 1
                      },
                      {
                        "bin_start": 0.608433819602078,
                        "bin_end": 0.867487987638308,
                        "count": 1
                      }
                    ]
                  }
                },
                {
                  "name": "station_precip_mm",
                  "dtype": "float64",
                  "stats": {
                    "unique_count": 5,
                    "nan_count": 0,
                    "min": "-0.7780537508558967",
                    "max": "0.5006480962437757",
                    "histogram": [
                      {
                        "bin_start": -0.7780537508558967,
                        "bin_end": -0.6501835661459294,
                        "count": 2
                      },
                      {
                        "bin_start": -0.6501835661459294,
                        "bin_end": -0.5223133814359622,
                        "count": 1
                      },
                      {
                        "bin_start": -0.5223133814359622,
                        "bin_end": -0.3944431967259949,
                        "count": 0
                      },
                      {
                        "bin_start": -0.3944431967259949,
                        "bin_end": -0.2665730120160277,
                        "count": 1
                      },
                      {
                        "bin_start": -0.2665730120160277,
                        "bin_end": -0.13870282730606043,
                        "count": 0
                      },
                      {
                        "bin_start": -0.13870282730606043,
                        "bin_end": -0.010832642596093178,
                        "count": 0
                      },
                      {
                        "bin_start": -0.010832642596093178,
                        "bin_end": 0.11703754211387407,
                        "count": 0
                      },
                      {
                        "bin_start": 0.11703754211387407,
                        "bin_end": 0.24490772682384132,
                        "count": 0
                      },
                      {
                        "bin_start": 0.24490772682384132,
                        "bin_end": 0.37277791153380857,
                        "count": 0
                      },
                      {
                        "bin_start": 0.37277791153380857,
                        "bin_end": 0.5006480962437757,
                        "count": 1
                      }
                    ]
                  }
                },
                {
                  "name": "_deepnote_index_column",
                  "dtype": "int64"
                }
              ],
              "rows_top": [
                {
                  "ndvi_ne": 0.6187300013466135,
                  "ndvi_nw": 0.40673220570824575,
                  "ndvi_se": 0.3868030325188706,
                  "ndvi_sw": 0.2075454935890307,
                  "precipitation_amt_mm": -0.5130131581706413,
                  "reanalysis_air_temp_k": -1.2820154714108143,
                  "reanalysis_avg_temp_k": -1.2538984468766095,
                  "reanalysis_dew_point_temp_k": -1.7144966190507138,
                  "reanalysis_max_air_temp_k": -1.2656234677212888,
                  "reanalysis_min_air_temp_k": -1.079864459582934,
                  "reanalysis_precip_amt_kg_per_m2": 0.04502093935888024,
                  "reanalysis_relative_humidity_percent": -1.5384752091228242,
                  "reanalysis_sat_precip_amt_mm": -0.5130131581706413,
                  "reanalysis_specific_humidity_g_per_kg": -1.6249718186177906,
                  "reanalysis_tdtr_k": 0.2287617345458413,
                  "station_avg_temp_c": -1.1004093539993105,
                  "station_diur_temp_rng_c": 0.17350794498766295,
                  "station_max_temp_c": -1.2786867617642501,
                  "station_min_temp_c": -1.7230536927239966,
                  "station_precip_mm": -0.36777508333728526,
                  "_deepnote_index_column": 0
                },
                {
                  "ndvi_ne": 1.0698471203400612,
                  "ndvi_nw": 0.8273280414954721,
                  "ndvi_se": -0.24087339719741968,
                  "ndvi_sw": -0.18911539036141486,
                  "precipitation_amt_mm": -0.2799932498739507,
                  "reanalysis_air_temp_k": -0.7656375185144861,
                  "reanalysis_avg_temp_k": -0.6797262677781106,
                  "reanalysis_dew_point_temp_k": -0.7349482193995066,
                  "reanalysis_max_air_temp_k": -0.3917729296541002,
                  "reanalysis_min_air_temp_k": -0.6936090582646908,
                  "reanalysis_precip_amt_kg_per_m2": -0.3508860751234931,
                  "reanalysis_relative_humidity_percent": -0.3552362474348311,
                  "reanalysis_sat_precip_amt_mm": -0.2799932498739507,
                  "reanalysis_specific_humidity_g_per_kg": -0.7530813033632906,
                  "reanalysis_tdtr_k": -0.28767638733987133,
                  "station_avg_temp_c": -0.20144297310712367,
                  "station_diur_temp_rng_c": -0.45981068389077207,
                  "station_max_temp_c": 0.059942328260102276,
                  "station_min_temp_c": -0.2617224884170554,
                  "station_precip_mm": -0.620780261640429,
                  "_deepnote_index_column": 1
                },
                {
                  "ndvi_ne": -0.24297045744953905,
                  "ndvi_nw": 1.164151469240844,
                  "ndvi_se": -0.33047568350735207,
                  "ndvi_sw": 0.0861365425383087,
                  "precipitation_amt_mm": -0.01739773783191082,
                  "reanalysis_air_temp_k": -0.3047095467247526,
                  "reanalysis_avg_temp_k": -0.32233338055393707,
                  "reanalysis_dew_point_temp_k": 0.21000646371424958,
                  "reanalysis_max_air_temp_k": -0.7095367616785242,
                  "reanalysis_min_air_temp_k": 0.0016506641081736008,
                  "reanalysis_precip_amt_kg_per_m2": -0.12111358307682407,
                  "reanalysis_relative_humidity_percent": 1.0294320449795873,
                  "reanalysis_sat_precip_amt_mm": -0.01739773783191082,
                  "reanalysis_specific_humidity_g_per_kg": 0.19299317378920985,
                  "reanalysis_tdtr_k": -0.4311314212014774,
                  "station_avg_temp_c": -0.20144297310712367,
                  "station_diur_temp_rng_c": -0.32287692630191117,
                  "station_max_temp_c": 0.35094865217844173,
                  "station_min_temp_c": 0.13682238548483866,
                  "station_precip_mm": 0.5006480962437757,
                  "_deepnote_index_column": 2
                },
                {
                  "ndvi_ne": 0.6762717542857926,
                  "ndvi_nw": 1.9528370286754086,
                  "ndvi_se": 0.8919471933297362,
                  "ndvi_sw": 1.2519191344958371,
                  "precipitation_amt_mm": -0.447140222556,
                  "reanalysis_air_temp_k": -0.13835960178764903,
                  "reanalysis_avg_temp_k": -0.0352472910046877,
                  "reanalysis_dew_point_temp_k": 0.13080505982794577,
                  "reanalysis_max_air_temp_k": 0.005431860376452301,
                  "reanalysis_min_air_temp_k": -0.23010257668278117,
                  "reanalysis_precip_amt_kg_per_m2": -0.4646459854015009,
                  "reanalysis_relative_humidity_percent": 0.5222693065630825,
                  "reanalysis_sat_precip_amt_mm": -0.447140222556,
                  "reanalysis_specific_humidity_g_per_kg": 0.08034345386527653,
                  "reanalysis_tdtr_k": -0.17291236025862017,
                  "station_avg_temp_c": 0.33389655706882715,
                  "station_diur_temp_rng_c": 0.01945746769420398,
                  "station_max_temp_c": 0.9911625647987806,
                  "station_min_temp_c": 0.4689431137364163,
                  "station_precip_mm": -0.7780537508558967,
                  "_deepnote_index_column": 3
                },
                {
                  "ndvi_ne": 1.32067968333219,
                  "ndvi_nw": 2.1402543143267296,
                  "ndvi_se": 1.3027319163324118,
                  "ndvi_sw": 1.4572181613375341,
                  "precipitation_amt_mm": -0.6228013841950437,
                  "reanalysis_air_temp_k": 0.29137775583181597,
                  "reanalysis_avg_temp_k": 0.32214559539929516,
                  "reanalysis_dew_point_temp_k": 0.4567142854913914,
                  "reanalysis_max_air_temp_k": 0.4026366504070048,
                  "reanalysis_min_air_temp_k": 0.15615282463546215,
                  "reanalysis_precip_amt_kg_per_m2": -0.5125152545778903,
                  "reanalysis_relative_humidity_percent": 0.5585857058277381,
                  "reanalysis_sat_precip_amt_mm": -0.6228013841950437,
                  "reanalysis_specific_humidity_g_per_kg": 0.4247035733080665,
                  "reanalysis_tdtr_k": 1.003418917394495,
                  "station_avg_temp_c": 1.3742733799729918,
                  "station_diur_temp_rng_c": 3.134700452996545,
                  "station_max_temp_c": 1.9805840661211294,
                  "station_min_temp_c": 0.867487987638308,
                  "station_precip_mm": -0.716511950728105,
                  "_deepnote_index_column": 4
                }
              ],
              "rows_bottom": null
            },
            "text/plain": "    ndvi_ne   ndvi_nw   ndvi_se   ndvi_sw  precipitation_amt_mm  \\\n0  0.618730  0.406732  0.386803  0.207545             -0.513013   \n1  1.069847  0.827328 -0.240873 -0.189115             -0.279993   \n2 -0.242970  1.164151 -0.330476  0.086137             -0.017398   \n3  0.676272  1.952837  0.891947  1.251919             -0.447140   \n4  1.320680  2.140254  1.302732  1.457218             -0.622801   \n\n   reanalysis_air_temp_k  reanalysis_avg_temp_k  reanalysis_dew_point_temp_k  \\\n0              -1.282015              -1.253898                    -1.714497   \n1              -0.765638              -0.679726                    -0.734948   \n2              -0.304710              -0.322333                     0.210006   \n3              -0.138360              -0.035247                     0.130805   \n4               0.291378               0.322146                     0.456714   \n\n   reanalysis_max_air_temp_k  reanalysis_min_air_temp_k  \\\n0                  -1.265623                  -1.079864   \n1                  -0.391773                  -0.693609   \n2                  -0.709537                   0.001651   \n3                   0.005432                  -0.230103   \n4                   0.402637                   0.156153   \n\n   reanalysis_precip_amt_kg_per_m2  reanalysis_relative_humidity_percent  \\\n0                         0.045021                             -1.538475   \n1                        -0.350886                             -0.355236   \n2                        -0.121114                              1.029432   \n3                        -0.464646                              0.522269   \n4                        -0.512515                              0.558586   \n\n   reanalysis_sat_precip_amt_mm  reanalysis_specific_humidity_g_per_kg  \\\n0                     -0.513013                              -1.624972   \n1                     -0.279993                              -0.753081   \n2                     -0.017398                               0.192993   \n3                     -0.447140                               0.080343   \n4                     -0.622801                               0.424704   \n\n   reanalysis_tdtr_k  station_avg_temp_c  station_diur_temp_rng_c  \\\n0           0.228762           -1.100409                 0.173508   \n1          -0.287676           -0.201443                -0.459811   \n2          -0.431131           -0.201443                -0.322877   \n3          -0.172912            0.333897                 0.019457   \n4           1.003419            1.374273                 3.134700   \n\n   station_max_temp_c  station_min_temp_c  station_precip_mm  \n0           -1.278687           -1.723054          -0.367775  \n1            0.059942           -0.261722          -0.620780  \n2            0.350949            0.136822           0.500648  \n3            0.991163            0.468943          -0.778054  \n4            1.980584            0.867488          -0.716512  ",
            "text/html": "<div>\n<style scoped>\n    .dataframe tbody tr th:only-of-type {\n        vertical-align: middle;\n    }\n\n    .dataframe tbody tr th {\n        vertical-align: top;\n    }\n\n    .dataframe thead th {\n        text-align: right;\n    }\n</style>\n<table border=\"1\" class=\"dataframe\">\n  <thead>\n    <tr style=\"text-align: right;\">\n      <th></th>\n      <th>ndvi_ne</th>\n      <th>ndvi_nw</th>\n      <th>ndvi_se</th>\n      <th>ndvi_sw</th>\n      <th>precipitation_amt_mm</th>\n      <th>reanalysis_air_temp_k</th>\n      <th>reanalysis_avg_temp_k</th>\n      <th>reanalysis_dew_point_temp_k</th>\n      <th>reanalysis_max_air_temp_k</th>\n      <th>reanalysis_min_air_temp_k</th>\n      <th>reanalysis_precip_amt_kg_per_m2</th>\n      <th>reanalysis_relative_humidity_percent</th>\n      <th>reanalysis_sat_precip_amt_mm</th>\n      <th>reanalysis_specific_humidity_g_per_kg</th>\n      <th>reanalysis_tdtr_k</th>\n      <th>station_avg_temp_c</th>\n      <th>station_diur_temp_rng_c</th>\n      <th>station_max_temp_c</th>\n      <th>station_min_temp_c</th>\n      <th>station_precip_mm</th>\n    </tr>\n  </thead>\n  <tbody>\n    <tr>\n      <th>0</th>\n      <td>0.618730</td>\n      <td>0.406732</td>\n      <td>0.386803</td>\n      <td>0.207545</td>\n      <td>-0.513013</td>\n      <td>-1.282015</td>\n      <td>-1.253898</td>\n      <td>-1.714497</td>\n      <td>-1.265623</td>\n      <td>-1.079864</td>\n      <td>0.045021</td>\n      <td>-1.538475</td>\n      <td>-0.513013</td>\n      <td>-1.624972</td>\n      <td>0.228762</td>\n      <td>-1.100409</td>\n      <td>0.173508</td>\n      <td>-1.278687</td>\n      <td>-1.723054</td>\n      <td>-0.367775</td>\n    </tr>\n    <tr>\n      <th>1</th>\n      <td>1.069847</td>\n      <td>0.827328</td>\n      <td>-0.240873</td>\n      <td>-0.189115</td>\n      <td>-0.279993</td>\n      <td>-0.765638</td>\n      <td>-0.679726</td>\n      <td>-0.734948</td>\n      <td>-0.391773</td>\n      <td>-0.693609</td>\n      <td>-0.350886</td>\n      <td>-0.355236</td>\n      <td>-0.279993</td>\n      <td>-0.753081</td>\n      <td>-0.287676</td>\n      <td>-0.201443</td>\n      <td>-0.459811</td>\n      <td>0.059942</td>\n      <td>-0.261722</td>\n      <td>-0.620780</td>\n    </tr>\n    <tr>\n      <th>2</th>\n      <td>-0.242970</td>\n      <td>1.164151</td>\n      <td>-0.330476</td>\n      <td>0.086137</td>\n      <td>-0.017398</td>\n      <td>-0.304710</td>\n      <td>-0.322333</td>\n      <td>0.210006</td>\n      <td>-0.709537</td>\n      <td>0.001651</td>\n      <td>-0.121114</td>\n      <td>1.029432</td>\n      <td>-0.017398</td>\n      <td>0.192993</td>\n      <td>-0.431131</td>\n      <td>-0.201443</td>\n      <td>-0.322877</td>\n      <td>0.350949</td>\n      <td>0.136822</td>\n      <td>0.500648</td>\n    </tr>\n    <tr>\n      <th>3</th>\n      <td>0.676272</td>\n      <td>1.952837</td>\n      <td>0.891947</td>\n      <td>1.251919</td>\n      <td>-0.447140</td>\n      <td>-0.138360</td>\n      <td>-0.035247</td>\n      <td>0.130805</td>\n      <td>0.005432</td>\n      <td>-0.230103</td>\n      <td>-0.464646</td>\n      <td>0.522269</td>\n      <td>-0.447140</td>\n      <td>0.080343</td>\n      <td>-0.172912</td>\n      <td>0.333897</td>\n      <td>0.019457</td>\n      <td>0.991163</td>\n      <td>0.468943</td>\n      <td>-0.778054</td>\n    </tr>\n    <tr>\n      <th>4</th>\n      <td>1.320680</td>\n      <td>2.140254</td>\n      <td>1.302732</td>\n      <td>1.457218</td>\n      <td>-0.622801</td>\n      <td>0.291378</td>\n      <td>0.322146</td>\n      <td>0.456714</td>\n      <td>0.402637</td>\n      <td>0.156153</td>\n      <td>-0.512515</td>\n      <td>0.558586</td>\n      <td>-0.622801</td>\n      <td>0.424704</td>\n      <td>1.003419</td>\n      <td>1.374273</td>\n      <td>3.134700</td>\n      <td>1.980584</td>\n      <td>0.867488</td>\n      <td>-0.716512</td>\n    </tr>\n  </tbody>\n</table>\n</div>"
          },
          "metadata": {}
        }
      ],
      "execution_count": null
    },
    {
      "cell_type": "code",
      "metadata": {
        "tags": [],
        "cell_id": "00022-a674857f-08a1-4960-b653-071e35f2c603",
        "deepnote_to_be_reexecuted": false,
        "source_hash": "6eada1b4",
        "execution_millis": 5,
        "execution_start": 1619635570151,
        "deepnote_cell_type": "code"
      },
      "source": "X = scaled_df_sj\ny = sj['total_cases']",
      "outputs": [],
      "execution_count": null
    },
    {
      "cell_type": "code",
      "metadata": {
        "tags": [],
        "cell_id": "00024-00caea99-7025-49ec-9445-4f74b5c85fcf",
        "deepnote_to_be_reexecuted": false,
        "source_hash": "60b0fe4e",
        "execution_millis": 326,
        "execution_start": 1619635570202,
        "deepnote_cell_type": "code"
      },
      "source": "randomforest.fit(X, y)",
      "outputs": [
        {
          "output_type": "execute_result",
          "execution_count": 22,
          "data": {
            "text/plain": "RandomForestRegressor(n_estimators=30)"
          },
          "metadata": {}
        }
      ],
      "execution_count": null
    },
    {
      "cell_type": "code",
      "metadata": {
        "tags": [],
        "cell_id": "00025-b7a51386-99bb-41af-9f8b-5f259a4aa8af",
        "deepnote_to_be_reexecuted": false,
        "source_hash": "e19c3167",
        "execution_millis": 0,
        "execution_start": 1619635570513,
        "deepnote_cell_type": "code"
      },
      "source": "X_train, X_test, y_train, y_test = train_test_split(X,y,test_size=0.30,random_state=42)",
      "outputs": [],
      "execution_count": null
    },
    {
      "cell_type": "code",
      "metadata": {
        "tags": [],
        "cell_id": "00026-5fd4a43f-24f7-4bdd-8dde-ad20d3182ed5",
        "deepnote_to_be_reexecuted": false,
        "source_hash": "3b7fdcbf",
        "execution_millis": 786,
        "execution_start": 1619635570551,
        "deepnote_cell_type": "code"
      },
      "source": "regressor = RandomForestRegressor(n_estimators=100, random_state=42, max_depth=None)\nregressor.fit(X_train, y_train)\ny_pred = regressor.predict(X_train)",
      "outputs": [],
      "execution_count": null
    },
    {
      "cell_type": "code",
      "metadata": {
        "tags": [],
        "cell_id": "00027-00a11519-90ed-4ae3-800c-e36adca2fffc",
        "deepnote_to_be_reexecuted": false,
        "source_hash": "79560b91",
        "execution_millis": 30,
        "execution_start": 1619635571347,
        "deepnote_cell_type": "code"
      },
      "source": "y_pred2=regressor.predict(X)",
      "outputs": [],
      "execution_count": null
    },
    {
      "cell_type": "code",
      "metadata": {
        "tags": [],
        "cell_id": "00028-deeb80a8-7812-48dc-9df0-e31e4cc08fe0",
        "deepnote_to_be_reexecuted": false,
        "source_hash": "af40b178",
        "execution_millis": 60,
        "execution_start": 1619635571384,
        "deepnote_cell_type": "code"
      },
      "source": "#scores on train and test \nprint(regressor.score(X_train, y_train))\nprint(regressor.score(X_test, y_test))",
      "outputs": [
        {
          "name": "stdout",
          "text": "0.9269127407313509\n0.4521867201795493\n",
          "output_type": "stream"
        }
      ],
      "execution_count": null
    },
    {
      "cell_type": "code",
      "metadata": {
        "tags": [],
        "cell_id": "00029-8ee2f812-de17-4126-9105-6d0f817a9f56",
        "deepnote_to_be_reexecuted": false,
        "source_hash": "3b757d10",
        "execution_millis": 240,
        "execution_start": 1619635571445,
        "deepnote_cell_type": "code"
      },
      "source": "plt.plot(np.array(y), label='train')\nplt.legend()\nplt.plot(y_pred2, label='test')\nplt.legend()\nplt.title(\"Predictions vs Actual total cases\") \n",
      "outputs": [
        {
          "output_type": "execute_result",
          "execution_count": 27,
          "data": {
            "text/plain": "Text(0.5, 1.0, 'Predictions vs Actual total cases')"
          },
          "metadata": {}
        },
        {
          "data": {
            "text/plain": "<Figure size 1080x720 with 1 Axes>",
            "image/png": "[encoded data removed]"
          },
          "metadata": {
            "needs_background": "light",
            "image/png": {
              "width": 877,
              "height": 590
            }
          },
          "output_type": "display_data"
        }
      ],
      "execution_count": null
    },
    {
      "cell_type": "code",
      "metadata": {
        "tags": [],
        "cell_id": "00032-9ef834af-b721-4cc5-aafa-03728e773fd9",
        "deepnote_to_be_reexecuted": false,
        "source_hash": "1c7eca8f",
        "execution_start": 1619635571687,
        "execution_millis": 3,
        "deepnote_cell_type": "code"
      },
      "source": "X = scaled_df\ny = sj_train_features['total_cases']\n\nX_train, X_test, y_train, y_test = train_test_split(X, y, test_size=0.3, random_state=42)",
      "outputs": [],
      "execution_count": null
    },
    {
      "cell_type": "markdown",
      "source": "# PCA &amp; Random Forest",
      "metadata": {
        "tags": [],
        "cell_id": "00033-7261ac5e-5f9a-4dfd-b130-dd48a303e93f",
        "deepnote_cell_type": "text-cell-h1"
      }
    },
    {
      "cell_type": "markdown",
      "source": "",
      "metadata": {
        "tags": [],
        "cell_id": "00034-f8bcf7bf-cf11-431b-9e6f-650fb57c463d",
        "deepnote_cell_type": "text-cell-p"
      }
    },
    {
      "cell_type": "code",
      "metadata": {
        "tags": [],
        "cell_id": "00031-d9077512-2a60-40dc-8f0c-61c70b8c9571",
        "deepnote_to_be_reexecuted": false,
        "source_hash": "fb5a2c31",
        "execution_millis": 6307,
        "execution_start": 1619635571695,
        "deepnote_cell_type": "code"
      },
      "source": "x = []\ndf_test = pd.DataFrame()\n\nfor i in range(1,20):\n    X = scaled_df\n    y = sj_train_features['total_cases']\n    X_train, X_test, y_train, y_test = train_test_split(X, y, test_size=0.3, random_state=42)\n    pca = PCA(n_components=i)\n    pca.fit(X_train)\n    X  = pca.transform(X)\n    X_train = pca.transform(X_train)\n    X_test = pca.transform(X_test)\n    randomforest=RandomForestRegressor(n_estimators=30)\n    randomforest.fit(X, y)\n    x.append(randomforest.score(X, y))\n    \ndf_test['PCA_choice'] = range(1,20)\ndf_test['Score'] = x\ndf_test.style.hide_index()\n#plt.plot(, color='green', marker='o', linestyle='dashed', linewidth=2, markersize=12)",
      "outputs": [
        {
          "output_type": "execute_result",
          "execution_count": 29,
          "data": {
            "text/plain": "<pandas.io.formats.style.Styler at 0x7f746f523a10>",
            "text/html": "<style  type=\"text/css\" >\n</style><table id=\"T_aced4_\" ><thead>    <tr>        <th class=\"col_heading level0 col0\" >PCA_choice</th>        <th class=\"col_heading level0 col1\" >Score</th>    </tr></thead><tbody>\n                <tr>\n                                <td id=\"T_aced4_row0_col0\" class=\"data row0 col0\" >1</td>\n                        <td id=\"T_aced4_row0_col1\" class=\"data row0 col1\" >0.794297</td>\n            </tr>\n            <tr>\n                                <td id=\"T_aced4_row1_col0\" class=\"data row1 col0\" >2</td>\n                        <td id=\"T_aced4_row1_col1\" class=\"data row1 col1\" >0.841268</td>\n            </tr>\n            <tr>\n                                <td id=\"T_aced4_row2_col0\" class=\"data row2 col0\" >3</td>\n                        <td id=\"T_aced4_row2_col1\" class=\"data row2 col1\" >0.839386</td>\n            </tr>\n            <tr>\n                                <td id=\"T_aced4_row3_col0\" class=\"data row3 col0\" >4</td>\n                        <td id=\"T_aced4_row3_col1\" class=\"data row3 col1\" >0.828052</td>\n            </tr>\n            <tr>\n                                <td id=\"T_aced4_row4_col0\" class=\"data row4 col0\" >5</td>\n                        <td id=\"T_aced4_row4_col1\" class=\"data row4 col1\" >0.845591</td>\n            </tr>\n            <tr>\n                                <td id=\"T_aced4_row5_col0\" class=\"data row5 col0\" >6</td>\n                        <td id=\"T_aced4_row5_col1\" class=\"data row5 col1\" >0.815980</td>\n            </tr>\n            <tr>\n                                <td id=\"T_aced4_row6_col0\" class=\"data row6 col0\" >7</td>\n                        <td id=\"T_aced4_row6_col1\" class=\"data row6 col1\" >0.847175</td>\n            </tr>\n            <tr>\n                                <td id=\"T_aced4_row7_col0\" class=\"data row7 col0\" >8</td>\n                        <td id=\"T_aced4_row7_col1\" class=\"data row7 col1\" >0.829848</td>\n            </tr>\n            <tr>\n                                <td id=\"T_aced4_row8_col0\" class=\"data row8 col0\" >9</td>\n                        <td id=\"T_aced4_row8_col1\" class=\"data row8 col1\" >0.839044</td>\n            </tr>\n            <tr>\n                                <td id=\"T_aced4_row9_col0\" class=\"data row9 col0\" >10</td>\n                        <td id=\"T_aced4_row9_col1\" class=\"data row9 col1\" >0.842657</td>\n            </tr>\n            <tr>\n                                <td id=\"T_aced4_row10_col0\" class=\"data row10 col0\" >11</td>\n                        <td id=\"T_aced4_row10_col1\" class=\"data row10 col1\" >0.858253</td>\n            </tr>\n            <tr>\n                                <td id=\"T_aced4_row11_col0\" class=\"data row11 col0\" >12</td>\n                        <td id=\"T_aced4_row11_col1\" class=\"data row11 col1\" >0.889590</td>\n            </tr>\n            <tr>\n                                <td id=\"T_aced4_row12_col0\" class=\"data row12 col0\" >13</td>\n                        <td id=\"T_aced4_row12_col1\" class=\"data row12 col1\" >0.866987</td>\n            </tr>\n            <tr>\n                                <td id=\"T_aced4_row13_col0\" class=\"data row13 col0\" >14</td>\n                        <td id=\"T_aced4_row13_col1\" class=\"data row13 col1\" >0.892579</td>\n            </tr>\n            <tr>\n                                <td id=\"T_aced4_row14_col0\" class=\"data row14 col0\" >15</td>\n                        <td id=\"T_aced4_row14_col1\" class=\"data row14 col1\" >0.898085</td>\n            </tr>\n            <tr>\n                                <td id=\"T_aced4_row15_col0\" class=\"data row15 col0\" >16</td>\n                        <td id=\"T_aced4_row15_col1\" class=\"data row15 col1\" >0.884269</td>\n            </tr>\n            <tr>\n                                <td id=\"T_aced4_row16_col0\" class=\"data row16 col0\" >17</td>\n                        <td id=\"T_aced4_row16_col1\" class=\"data row16 col1\" >0.871945</td>\n            </tr>\n            <tr>\n                                <td id=\"T_aced4_row17_col0\" class=\"data row17 col0\" >18</td>\n                        <td id=\"T_aced4_row17_col1\" class=\"data row17 col1\" >0.877968</td>\n            </tr>\n            <tr>\n                                <td id=\"T_aced4_row18_col0\" class=\"data row18 col0\" >19</td>\n                        <td id=\"T_aced4_row18_col1\" class=\"data row18 col1\" >0.890442</td>\n            </tr>\n    </tbody></table>"
          },
          "metadata": {}
        }
      ],
      "execution_count": null
    },
    {
      "cell_type": "code",
      "metadata": {
        "tags": [],
        "cell_id": "00032-6085da36-30b4-48ad-ac66-d36de7b5134d",
        "deepnote_to_be_reexecuted": false,
        "source_hash": "7ae1732e",
        "execution_millis": 285,
        "execution_start": 1619635578007,
        "deepnote_cell_type": "code"
      },
      "source": "x=df_test['PCA_choice']\ny=df_test['Score']\nplt.plot(x, y)\nplt.xticks(x)\nplt.xlabel('PCA_choice')\nplt.ylabel('Score')\nplt.draw()",
      "outputs": [
        {
          "data": {
            "text/plain": "<Figure size 1080x720 with 1 Axes>",
            "image/png": "[encoded data removed]"
          },
          "metadata": {
            "needs_background": "light",
            "image/png": {
              "width": 894,
              "height": 589
            }
          },
          "output_type": "display_data"
        }
      ],
      "execution_count": null
    },
    {
      "cell_type": "code",
      "metadata": {
        "tags": [],
        "cell_id": "00033-c2b7d249-aca1-4914-b538-1db903b4a075",
        "deepnote_to_be_reexecuted": false,
        "source_hash": "507bf2c6",
        "execution_millis": 333,
        "execution_start": 1619635578351,
        "deepnote_cell_type": "code"
      },
      "source": "X = scaled_df\ny = sj_train_features['total_cases']\nX_train, X_test, y_train, y_test = train_test_split(X, y, test_size=0.3, random_state=42)\npca = PCA(n_components=13)\npca.fit(X_train)\nX  = pca.transform(X)\nX_train = pca.transform(X_train)\nX_test = pca.transform(X_test)\nrandomforest=RandomForestRegressor(n_estimators=30)\nrandomforest.fit(X, y)",
      "outputs": [
        {
          "output_type": "execute_result",
          "execution_count": 31,
          "data": {
            "text/plain": "RandomForestRegressor(n_estimators=30)"
          },
          "metadata": {}
        }
      ],
      "execution_count": null
    },
    {
      "cell_type": "code",
      "metadata": {
        "tags": [],
        "cell_id": "00034-dd18e46f-32aa-441b-bc18-32d890d952fe",
        "deepnote_to_be_reexecuted": false,
        "source_hash": "3b7fdcbf",
        "execution_millis": 635,
        "execution_start": 1619635578721,
        "deepnote_cell_type": "code"
      },
      "source": "regressor = RandomForestRegressor(n_estimators=100, random_state=42, max_depth=None)\nregressor.fit(X_train, y_train)\ny_pred = regressor.predict(X_train)",
      "outputs": [],
      "execution_count": null
    },
    {
      "cell_type": "code",
      "metadata": {
        "tags": [],
        "cell_id": "00035-77eb8a48-8792-445a-8a25-ee76b77d87be",
        "deepnote_to_be_reexecuted": false,
        "source_hash": "79560b91",
        "execution_millis": 21,
        "execution_start": 1619635579359,
        "deepnote_cell_type": "code"
      },
      "source": "y_pred2=regressor.predict(X)",
      "outputs": [],
      "execution_count": null
    },
    {
      "cell_type": "code",
      "metadata": {
        "tags": [],
        "cell_id": "00036-6192bccf-04ee-4002-997a-0e6160e6d24f",
        "deepnote_to_be_reexecuted": false,
        "source_hash": "af40b178",
        "execution_millis": 50,
        "execution_start": 1619635579385,
        "deepnote_cell_type": "code"
      },
      "source": "#scores on train and test \nprint(regressor.score(X_train, y_train))\nprint(regressor.score(X_test, y_test))",
      "outputs": [
        {
          "name": "stdout",
          "text": "0.8888956372659632\n0.24602940000540108\n",
          "output_type": "stream"
        }
      ],
      "execution_count": null
    },
    {
      "cell_type": "code",
      "metadata": {
        "tags": [],
        "cell_id": "00037-76c24d05-15bd-4802-88f2-6ba95c89bfe5",
        "deepnote_to_be_reexecuted": false,
        "source_hash": "5b171e72",
        "execution_millis": 176,
        "execution_start": 1619635579425,
        "deepnote_cell_type": "code"
      },
      "source": "plt.plot(np.array(y), label='train')\nplt.plot(y_pred2, label='test')\nplt.title(\"Predictions vs Actual total cases with PCA\") ",
      "outputs": [
        {
          "output_type": "execute_result",
          "execution_count": 35,
          "data": {
            "text/plain": "Text(0.5, 1.0, 'Predictions vs Actual total cases with PCA')"
          },
          "metadata": {}
        },
        {
          "data": {
            "text/plain": "<Figure size 1080x720 with 1 Axes>",
            "image/png": "[encoded data removed]"
          },
          "metadata": {
            "needs_background": "light",
            "image/png": {
              "width": 877,
              "height": 590
            }
          },
          "output_type": "display_data"
        }
      ],
      "execution_count": null
    },
    {
      "cell_type": "markdown",
      "source": "# RNN",
      "metadata": {
        "tags": [],
        "cell_id": "00042-dc7fbd8a-363b-4c53-8f74-1796b70c4157",
        "deepnote_cell_type": "text-cell-h1"
      }
    },
    {
      "cell_type": "code",
      "metadata": {
        "tags": [],
        "cell_id": "00038-6d8275f4-2e50-4c85-b84e-b9665254ca8e",
        "deepnote_to_be_reexecuted": false,
        "source_hash": "aaf6aa50",
        "execution_millis": 3,
        "execution_start": 1619635579597,
        "deepnote_cell_type": "code"
      },
      "source": " #function converts a time series for supervised learning\n# modified from \n# https://machinelearningmastery.com/multivariate-time-series-forecasting-lstms-keras/\n\ndef series_to_supervised(data, n_in=1, n_out=1, dropnan=True):\n    \"\"\"\n    arguments:\n    data: list of values\n    n_in: lookback time period(s)\n    n_out: prediction time period(s)\n    dropnan: True/False\n    \"\"\"\n    n_vars = 1 if type(data) is list else data.shape[1]\n    df = pd.DataFrame(data)\n    cols, names = list(), list()\n    # input sequence (t-n, ... t-1)\n    for i in range(n_in, 0, -1):\n        cols.append(df.shift(i))\n        names += [('var%d(t-%d)' % (j+1, i)) for j in range(n_vars)]\n    # forecast sequence (t, t+1, ... t+n)\n    for i in range(0, n_out):\n        cols.append(df.shift(-i))\n        if i == 0:\n            names += [('var%d(t)' % (j+1)) for j in range(n_vars)]\n        else:\n            names += [('var%d(t+%d)' % (j+1, i)) for j in range(n_vars)]\n    # put it all together\n    agg = pd.concat(cols, axis=1)\n    agg.columns = names\n    # drop rows with NaN values\n    if dropnan:\n        agg.dropna(inplace=True)\n    return agg",
      "outputs": [],
      "execution_count": null
    },
    {
      "cell_type": "code",
      "metadata": {
        "tags": [],
        "cell_id": "00044-8998a65b-4e97-4953-ae11-f85c0e0e2296",
        "deepnote_to_be_reexecuted": false,
        "source_hash": "112d6562",
        "execution_millis": 3,
        "execution_start": 1619635579610,
        "deepnote_cell_type": "code"
      },
      "source": "# create function to create models and display results of the loss ( here it's mean absolute error)\n\ndef run_lstm(dataset_in, dataset_name_string, chart_title, start_col, end_col, \n             lookback_periods, train_proportion, dropout_proportion, epoch_count):\n    '''\n    dataset_in: pandas dataframe\n    dataset_name_string: string for name of dataset_in, used in report\n    chart_title: string for plot title\n    start_col: index of column to start training data with\n    end_col: index of column to end the training date from\n    lookback_periods: prior time periods to use when predicting\n    train_proportion: proportion of the dataset to use for the training data (0-1)\n    dropout_proportion: proportion of nodes in the dropout layer to randomly disable during an epoch\n    epoch_count: number of epochs to run the model\n    '''\n    \n    #get values, starting with start_col, which in these datasets skips 'week_start_date'\n    dataset = dataset_in.copy()\n    values = dataset[dataset.columns[start_col:end_col]].values\n\n    # ensure all data are of type float32\n    values = values.astype('float32')\n\n    # normalize all features\n    scaler = MinMaxScaler(feature_range=(0, 1))\n    scaled = scaler.fit_transform(values)\n\n    # convert data to proper format for supervised learning using lookback_periods\n    reframed = series_to_supervised(scaled, lookback_periods, 1)\n\n    # split the data into train and test sets based on given proportion\n    values = reframed.values\n    n_train_weeks = math.floor(len(values) * train_proportion)\n    train = values[:n_train_weeks, :]\n    test = values[n_train_weeks:, :]\n    \n    # split into explanatry (as opposed to independant) and response variables. \n    # Last column, 'total_cases' is the response variable\n    train_X, train_y = train[:, :-1], train[:, -1]\n    test_X, test_y = test[:, :-1], test[:, -1]\n    \n    # reshape input to be 3D [samples, timesteps, features]\n    train_X = train_X.reshape((train_X.shape[0], 1, train_X.shape[1]))\n    test_X = test_X.reshape((test_X.shape[0], 1, test_X.shape[1]))\n    \n    # Create an LSTM model \n    model = Sequential()\n    #First Layer\n    model.add(LSTM(units = 50, return_sequences = True, input_shape=(train_X.shape[1], train_X.shape[2])))\n      # dropout layer\n    model.add(Dropout(dropout_proportion))\n    #Second layer\n    model.add(LSTM(units = 50, return_sequences = True))\n       # dropout layer\n        #THIRD layer\n    model.add(LSTM(units = 50, return_sequences = True))\n       # dropout layer\n    model.add(Dropout(dropout_proportion))\n\n    model.add(Dense(50, activation='relu'))\n\n    # output layer\n    model.add(Dense(1))\n\n    model.compile(optimizer = 'adam', loss = 'mean_absolute_error')\n\n    # fit model\n    history = model.fit(train_X, train_y, epochs=epoch_count, batch_size=72, \n                        validation_data=(test_X, test_y), verbose=0, shuffle=False)\n    \n    # output\n    print('Dataset name: {}'.format(dataset_name_string))\n    print('Lookback window periods: {}'.format(lookback_periods))\n    print('Training proportion: {}'.format(train_proportion))\n    print('Dropout proportion: {}'.format(dropout_proportion))\n    print('last epoch loss: {}'.format(history.history['loss'][-1]))\n    print('last epoch val_loss: {}'.format(history.history['val_loss'][-1]))\n# plot history\n    plt.figure(figsize=(20,10))\n    plt.plot(history.history['loss'], label='train')\n    plt.plot(history.history['val_loss'], label='test')\n    plt.xlabel('epochs', fontsize=20)\n    plt.ylabel('loss proportion', fontsize=20)\n    plt.legend(fontsize=20)\n    plt.title('Location: {}'.format(chart_title), fontsize=24)\n    plt.show()",
      "outputs": [],
      "execution_count": null
    },
    {
      "cell_type": "code",
      "metadata": {
        "tags": [],
        "cell_id": "00045-c2239eb2-f23b-4b4b-b1ba-34cb7488e3d6",
        "deepnote_to_be_reexecuted": false,
        "source_hash": "4532aa3",
        "execution_millis": 35145,
        "execution_start": 1619635579615,
        "deepnote_cell_type": "code"
      },
      "source": "# for reference\n# run_lstm(dataset_in, dataset_name_string, chart_title, start_col, end_col, \n#          lookback_periods, train_proportion, dropout_proportion, epoch_count)\n\n# San Juan\nrun_lstm(sj, 'sj', 'San Juan, Puerto Rico', 1, 5, 4, .87, .3, 100)",
      "outputs": [
        {
          "name": "stdout",
          "text": "Dataset name: sj\nLookback window periods: 4\nTraining proportion: 0.87\nDropout proportion: 0.3\nlast epoch loss: 0.019404755905270576\nlast epoch val_loss: 0.01419149897992611\n",
          "output_type": "stream"
        },
        {
          "data": {
            "text/plain": "<Figure size 1440x720 with 1 Axes>",
            "image/png": "[encoded data removed]"
          },
          "metadata": {
            "needs_background": "light",
            "image/png": {
              "width": 1182,
              "height": 622
            }
          },
          "output_type": "display_data"
        }
      ],
      "execution_count": null
    },
    {
      "cell_type": "code",
      "metadata": {
        "tags": [],
        "cell_id": "00046-f42f524d-42ec-439c-b539-7c38a92fe6a7",
        "deepnote_to_be_reexecuted": false,
        "source_hash": "4fc98242",
        "execution_millis": 19,
        "execution_start": 1619635614758,
        "deepnote_cell_type": "code"
      },
      "source": "# create function to create models and display mae\n\ndef run_lstm_mae(dataset_in, dataset_name_string, chart_title, start_col, end_col, \n             lookback_periods, train_proportion, dropout_proportion, epoch_count):\n    '''\n    dataset_in: pandas dataframe\n    dataset_name_string: string for name of dataset_in, used in report\n    chart_title: string for plot title\n    start_col: index of column to start training data with\n    end_col: index of column to end the training date from\n    lookback_periods: prior time periods to use when predicting\n    train_proportion: proportion of the dataset to use for the training data (0-1)\n    dropout_proportion: proportion of nodes in the dropout layer to randomly disable during an epoch\n    epoch_count: number of epochs to run the model\n    '''\n    \n    #get values, starting with start_col, which in these datasets skips 'week_start_date'\n    dataset = dataset_in.copy()\n    values = dataset[dataset.columns[start_col:end_col]].values\n\n    # ensure all data are of type float32\n    values = values.astype('float32')\n\n    # normalize all features\n    scaler = MinMaxScaler(feature_range=(0, 1))\n    scaled = scaler.fit_transform(values)\n\n    # convert data to proper format for supervised learning using lookback_periods\n    reframed = series_to_supervised(scaled, lookback_periods, 1)\n\n    # split the data into train and test sets based on given proportion\n    values = reframed.values\n    n_train_weeks = math.floor(len(values) * train_proportion)\n    train = values[:n_train_weeks, :]\n    test = values[n_train_weeks:, :]\n    \n    # split into explanatry (as opposed to independant) and response variables. \n    # Last column, 'total_cases' is the response variable\n    train_X, train_y = train[:, :-1], train[:, -1]\n    test_X, test_y = test[:, :-1], test[:, -1]\n    \n    # reshape input to be 3D [samples, timesteps, features]\n    train_X = train_X.reshape((train_X.shape[0], 1, train_X.shape[1]))\n    test_X = test_X.reshape((test_X.shape[0], 1, test_X.shape[1]))\n    \n    # Create an LSTM model with a dropout layer \n    # and number of epochs specified\n    model = Sequential()\n    \n    model.add(LSTM(50, input_shape=(train_X.shape[1], train_X.shape[2])))\n\n    # dropout layer\n    model.add(Dropout(dropout_proportion))\n\n    model.add(Dense(50, activation='relu'))\n\n    # output layer\n    model.add(Dense(1))\n\n    model.compile(loss='mae', optimizer='adam')\n\n    # fit model\n    history = model.fit(train_X, train_y, epochs=epoch_count, batch_size=72,\n                        validation_data=(test_X, test_y), verbose=0, shuffle=False)\n    \n    \n    val_mae = model.evaluate(test_X, test_y, verbose=0)\n\n    preds = model.predict(test_X)\n\n    # fit model\n    history = model.fit(train_X, train_y, epochs=epoch_count, batch_size=72,\n                        validation_data=(test_X, test_y), verbose=0, shuffle=False)\n    \n    \n    val_mae = model.evaluate(test_X, test_y, verbose=0)\n\n    preds = model.predict(test_X)\n\n    \n    \n    # output\n    print('Dataset name: {}'.format(dataset_name_string))\n    print('Lookback window periods: {}'.format(lookback_periods))\n    print('Training proportion: {}'.format(train_proportion))\n    print('Dropout proportion: {}'.format(dropout_proportion))\n    print('last epoch loss: {}'.format(history.history['loss'][-1]))\n    print('last epoch val_loss: {}'.format(history.history['val_loss'][-1]))\n\n#     # plot history\n    plt.figure(figsize=(20,10))\n    plt.plot(preds, label='predictions')\n    plt.plot(test_y, label='actual value')\n    plt.xlabel('epochs', fontsize=20)\n    plt.ylabel('total_cases', fontsize=20)\n    plt.legend(fontsize=20)\n    plt.title('Location: {}'.format(chart_title), fontsize=24)\n    plt.show()\n    \n    return val_mae",
      "outputs": [],
      "execution_count": null
    },
    {
      "cell_type": "code",
      "metadata": {
        "tags": [],
        "cell_id": "00047-1077f66f-b445-4fc0-a775-dac330fe0099",
        "deepnote_to_be_reexecuted": false,
        "source_hash": "2ff6d350",
        "execution_millis": 38425,
        "execution_start": 1619635614787,
        "deepnote_cell_type": "code"
      },
      "source": "# look at the mae\ntemp = run_lstm_mae(sj, 'sj', 'San Juan, Puerto Rico', 1, 5, 4, .87, .5, 100)",
      "outputs": [
        {
          "name": "stdout",
          "text": "Dataset name: sj\nLookback window periods: 4\nTraining proportion: 0.87\nDropout proportion: 0.5\nlast epoch loss: 0.0180885661393404\nlast epoch val_loss: 0.014638306573033333\n",
          "output_type": "stream"
        },
        {
          "data": {
            "text/plain": "<Figure size 1440x720 with 1 Axes>",
            "image/png": "[encoded data removed]"
          },
          "metadata": {
            "needs_background": "light",
            "image/png": {
              "width": 1183,
              "height": 622
            }
          },
          "output_type": "display_data"
        }
      ],
      "execution_count": null
    },
    {
      "cell_type": "code",
      "metadata": {
        "tags": [],
        "cell_id": "00048-b1f8abf0-55ef-4961-a7e9-870f4ef7c10d",
        "deepnote_to_be_reexecuted": false,
        "source_hash": "61167a79",
        "execution_start": 1619635653214,
        "execution_millis": 21,
        "deepnote_cell_type": "code"
      },
      "source": "#MAE Score with our RNN \ntemp",
      "outputs": [
        {
          "output_type": "execute_result",
          "execution_count": 41,
          "data": {
            "text/plain": "0.014638306573033333"
          },
          "metadata": {}
        }
      ],
      "execution_count": null
    },
    {
      "cell_type": "markdown",
      "source": "# RNN &amp; PCA",
      "metadata": {
        "tags": [],
        "cell_id": "00049-71a16b55-fb41-4c15-b800-9437a01d37d7",
        "deepnote_cell_type": "text-cell-h1"
      }
    },
    {
      "cell_type": "code",
      "metadata": {
        "tags": [],
        "cell_id": "00050-9b7ccec7-0c06-4a72-8c99-e7aafecaad5e",
        "deepnote_to_be_reexecuted": false,
        "source_hash": "6babd644",
        "execution_start": 1619635653252,
        "execution_millis": 167,
        "deepnote_cell_type": "code"
      },
      "source": "#we saw that n_components = 13 gives the best score on the random forest , so we will try 13 with the RNN too.\npca=PCA(n_components=13)\npca.fit(sj_train_features)",
      "outputs": [
        {
          "output_type": "execute_result",
          "execution_count": 42,
          "data": {
            "text/plain": "PCA(n_components=13)"
          },
          "metadata": {}
        }
      ],
      "execution_count": null
    },
    {
      "cell_type": "code",
      "metadata": {
        "tags": [],
        "cell_id": "00050-98f0dc05-ebbf-4d1b-978c-15e8451aeb2c",
        "deepnote_to_be_reexecuted": false,
        "source_hash": "ada312da",
        "execution_start": 1619635653431,
        "execution_millis": 205,
        "deepnote_cell_type": "code"
      },
      "source": "columns = ['pca_%i' % i for i in range(13)]\ndf_pca = DataFrame(pca.transform(sj_train_features), columns=columns, index=sj_train_features.index)\ndf_pca.head()",
      "outputs": [
        {
          "output_type": "execute_result",
          "execution_count": 43,
          "data": {
            "application/vnd.deepnote.dataframe.v2+json": {
              "row_count": 5,
              "column_count": 13,
              "columns": [
                {
                  "name": "pca_0",
                  "dtype": "float64",
                  "stats": {
                    "unique_count": 5,
                    "nan_count": 0,
                    "min": "-50.25646319633792",
                    "max": "-1.7406402397644674",
                    "histogram": [
                      {
                        "bin_start": -50.25646319633792,
                        "bin_end": -45.404880900680574,
                        "count": 1
                      },
                      {
                        "bin_start": -45.404880900680574,
                        "bin_end": -40.55329860502323,
                        "count": 1
                      },
                      {
                        "bin_start": -40.55329860502323,
                        "bin_end": -35.70171630936588,
                        "count": 0
                      },
                      {
                        "bin_start": -35.70171630936588,
                        "bin_end": -30.850134013708537,
                        "count": 1
                      },
                      {
                        "bin_start": -30.850134013708537,
                        "bin_end": -25.998551718051193,
                        "count": 1
                      },
                      {
                        "bin_start": -25.998551718051193,
                        "bin_end": -21.146969422393845,
                        "count": 0
                      },
                      {
                        "bin_start": -21.146969422393845,
                        "bin_end": -16.2953871267365,
                        "count": 0
                      },
                      {
                        "bin_start": -16.2953871267365,
                        "bin_end": -11.443804831079156,
                        "count": 0
                      },
                      {
                        "bin_start": -11.443804831079156,
                        "bin_end": -6.592222535421811,
                        "count": 0
                      },
                      {
                        "bin_start": -6.592222535421811,
                        "bin_end": -1.7406402397644674,
                        "count": 1
                      }
                    ]
                  }
                },
                {
                  "name": "pca_1",
                  "dtype": "float64",
                  "stats": {
                    "unique_count": 5,
                    "nan_count": 0,
                    "min": "-30.25291934786147",
                    "max": "-22.515284477009796",
                    "histogram": [
                      {
                        "bin_start": -30.25291934786147,
                        "bin_end": -29.479155860776302,
                        "count": 1
                      },
                      {
                        "bin_start": -29.479155860776302,
                        "bin_end": -28.705392373691136,
                        "count": 0
                      },
                      {
                        "bin_start": -28.705392373691136,
                        "bin_end": -27.93162888660597,
                        "count": 0
                      },
                      {
                        "bin_start": -27.93162888660597,
                        "bin_end": -27.1578653995208,
                        "count": 0
                      },
                      {
                        "bin_start": -27.1578653995208,
                        "bin_end": -26.384101912435632,
                        "count": 1
                      },
                      {
                        "bin_start": -26.384101912435632,
                        "bin_end": -25.610338425350466,
                        "count": 1
                      },
                      {
                        "bin_start": -25.610338425350466,
                        "bin_end": -24.8365749382653,
                        "count": 1
                      },
                      {
                        "bin_start": -24.8365749382653,
                        "bin_end": -24.06281145118013,
                        "count": 0
                      },
                      {
                        "bin_start": -24.06281145118013,
                        "bin_end": -23.289047964094962,
                        "count": 0
                      },
                      {
                        "bin_start": -23.289047964094962,
                        "bin_end": -22.515284477009796,
                        "count": 1
                      }
                    ]
                  }
                },
                {
                  "name": "pca_2",
                  "dtype": "float64",
                  "stats": {
                    "unique_count": 5,
                    "nan_count": 0,
                    "min": "-6.89871826011486",
                    "max": "13.483848983424947",
                    "histogram": [
                      {
                        "bin_start": -6.89871826011486,
                        "bin_end": -4.860461535760879,
                        "count": 2
                      },
                      {
                        "bin_start": -4.860461535760879,
                        "bin_end": -2.8222048114068983,
                        "count": 1
                      },
                      {
                        "bin_start": -2.8222048114068983,
                        "bin_end": -0.7839480870529174,
                        "count": 0
                      },
                      {
                        "bin_start": -0.7839480870529174,
                        "bin_end": 1.2543086373010635,
                        "count": 0
                      },
                      {
                        "bin_start": 1.2543086373010635,
                        "bin_end": 3.292565361655045,
                        "count": 1
                      },
                      {
                        "bin_start": 3.292565361655045,
                        "bin_end": 5.330822086009025,
                        "count": 0
                      },
                      {
                        "bin_start": 5.330822086009025,
                        "bin_end": 7.369078810363005,
                        "count": 0
                      },
                      {
                        "bin_start": 7.369078810363005,
                        "bin_end": 9.407335534716987,
                        "count": 0
                      },
                      {
                        "bin_start": 9.407335534716987,
                        "bin_end": 11.445592259070969,
                        "count": 0
                      },
                      {
                        "bin_start": 11.445592259070969,
                        "bin_end": 13.483848983424947,
                        "count": 1
                      }
                    ]
                  }
                },
                {
                  "name": "pca_3",
                  "dtype": "float64",
                  "stats": {
                    "unique_count": 5,
                    "nan_count": 0,
                    "min": "-14.762533248617958",
                    "max": "11.018389571396128",
                    "histogram": [
                      {
                        "bin_start": -14.762533248617958,
                        "bin_end": -12.184440966616549,
                        "count": 1
                      },
                      {
                        "bin_start": -12.184440966616549,
                        "bin_end": -9.606348684615142,
                        "count": 0
                      },
                      {
                        "bin_start": -9.606348684615142,
                        "bin_end": -7.028256402613733,
                        "count": 0
                      },
                      {
                        "bin_start": -7.028256402613733,
                        "bin_end": -4.450164120612325,
                        "count": 0
                      },
                      {
                        "bin_start": -4.450164120612325,
                        "bin_end": -1.8720718386109159,
                        "count": 0
                      },
                      {
                        "bin_start": -1.8720718386109159,
                        "bin_end": 0.7060204433904911,
                        "count": 0
                      },
                      {
                        "bin_start": 0.7060204433904911,
                        "bin_end": 3.2841127253919016,
                        "count": 0
                      },
                      {
                        "bin_start": 3.2841127253919016,
                        "bin_end": 5.8622050073933085,
                        "count": 1
                      },
                      {
                        "bin_start": 5.8622050073933085,
                        "bin_end": 8.440297289394715,
                        "count": 1
                      },
                      {
                        "bin_start": 8.440297289394715,
                        "bin_end": 11.018389571396128,
                        "count": 2
                      }
                    ]
                  }
                },
                {
                  "name": "pca_4",
                  "dtype": "float64",
                  "stats": {
                    "unique_count": 5,
                    "nan_count": 0,
                    "min": "-5.499619466985883",
                    "max": "6.496042623326105",
                    "histogram": [
                      {
                        "bin_start": -5.499619466985883,
                        "bin_end": -4.3000532579546835,
                        "count": 1
                      },
                      {
                        "bin_start": -4.3000532579546835,
                        "bin_end": -3.100487048923485,
                        "count": 0
                      },
                      {
                        "bin_start": -3.100487048923485,
                        "bin_end": -1.900920839892286,
                        "count": 2
                      },
                      {
                        "bin_start": -1.900920839892286,
                        "bin_end": -0.7013546308610872,
                        "count": 0
                      },
                      {
                        "bin_start": -0.7013546308610872,
                        "bin_end": 0.4982115781701113,
                        "count": 0
                      },
                      {
                        "bin_start": 0.4982115781701113,
                        "bin_end": 1.6977777872013107,
                        "count": 1
                      },
                      {
                        "bin_start": 1.6977777872013107,
                        "bin_end": 2.89734399623251,
                        "count": 0
                      },
                      {
                        "bin_start": 2.89734399623251,
                        "bin_end": 4.0969102052637085,
                        "count": 0
                      },
                      {
                        "bin_start": 4.0969102052637085,
                        "bin_end": 5.296476414294907,
                        "count": 0
                      },
                      {
                        "bin_start": 5.296476414294907,
                        "bin_end": 6.496042623326105,
                        "count": 1
                      }
                    ]
                  }
                },
                {
                  "name": "pca_5",
                  "dtype": "float64",
                  "stats": {
                    "unique_count": 5,
                    "nan_count": 0,
                    "min": "-3.2342408205229853",
                    "max": "2.194211907160331",
                    "histogram": [
                      {
                        "bin_start": -3.2342408205229853,
                        "bin_end": -2.6913955477546536,
                        "count": 1
                      },
                      {
                        "bin_start": -2.6913955477546536,
                        "bin_end": -2.148550274986322,
                        "count": 1
                      },
                      {
                        "bin_start": -2.148550274986322,
                        "bin_end": -1.6057050022179906,
                        "count": 0
                      },
                      {
                        "bin_start": -1.6057050022179906,
                        "bin_end": -1.062859729449659,
                        "count": 1
                      },
                      {
                        "bin_start": -1.062859729449659,
                        "bin_end": -0.5200144566813272,
                        "count": 0
                      },
                      {
                        "bin_start": -0.5200144566813272,
                        "bin_end": 0.022830816087004102,
                        "count": 1
                      },
                      {
                        "bin_start": 0.022830816087004102,
                        "bin_end": 0.5656760888553358,
                        "count": 0
                      },
                      {
                        "bin_start": 0.5656760888553358,
                        "bin_end": 1.1085213616236675,
                        "count": 0
                      },
                      {
                        "bin_start": 1.1085213616236675,
                        "bin_end": 1.6513666343919988,
                        "count": 0
                      },
                      {
                        "bin_start": 1.6513666343919988,
                        "bin_end": 2.194211907160331,
                        "count": 1
                      }
                    ]
                  }
                },
                {
                  "name": "pca_6",
                  "dtype": "float64",
                  "stats": {
                    "unique_count": 5,
                    "nan_count": 0,
                    "min": "0.08958951269533555",
                    "max": "3.4101036721659708",
                    "histogram": [
                      {
                        "bin_start": 0.08958951269533555,
                        "bin_end": 0.42164092864239905,
                        "count": 1
                      },
                      {
                        "bin_start": 0.42164092864239905,
                        "bin_end": 0.7536923445894625,
                        "count": 2
                      },
                      {
                        "bin_start": 0.7536923445894625,
                        "bin_end": 1.085743760536526,
                        "count": 0
                      },
                      {
                        "bin_start": 1.085743760536526,
                        "bin_end": 1.4177951764835894,
                        "count": 1
                      },
                      {
                        "bin_start": 1.4177951764835894,
                        "bin_end": 1.7498465924306532,
                        "count": 0
                      },
                      {
                        "bin_start": 1.7498465924306532,
                        "bin_end": 2.0818980083777165,
                        "count": 0
                      },
                      {
                        "bin_start": 2.0818980083777165,
                        "bin_end": 2.4139494243247803,
                        "count": 0
                      },
                      {
                        "bin_start": 2.4139494243247803,
                        "bin_end": 2.7460008402718437,
                        "count": 0
                      },
                      {
                        "bin_start": 2.7460008402718437,
                        "bin_end": 3.078052256218907,
                        "count": 0
                      },
                      {
                        "bin_start": 3.078052256218907,
                        "bin_end": 3.4101036721659708,
                        "count": 1
                      }
                    ]
                  }
                },
                {
                  "name": "pca_7",
                  "dtype": "float64",
                  "stats": {
                    "unique_count": 5,
                    "nan_count": 0,
                    "min": "-0.8225534207142098",
                    "max": "0.3105652832632886",
                    "histogram": [
                      {
                        "bin_start": -0.8225534207142098,
                        "bin_end": -0.70924155031646,
                        "count": 1
                      },
                      {
                        "bin_start": -0.70924155031646,
                        "bin_end": -0.5959296799187102,
                        "count": 1
                      },
                      {
                        "bin_start": -0.5959296799187102,
                        "bin_end": -0.48261780952096023,
                        "count": 0
                      },
                      {
                        "bin_start": -0.48261780952096023,
                        "bin_end": -0.3693059391232104,
                        "count": 1
                      },
                      {
                        "bin_start": -0.3693059391232104,
                        "bin_end": -0.2559940687254606,
                        "count": 1
                      },
                      {
                        "bin_start": -0.2559940687254606,
                        "bin_end": -0.14268219832771067,
                        "count": 0
                      },
                      {
                        "bin_start": -0.14268219832771067,
                        "bin_end": -0.02937032792996086,
                        "count": 0
                      },
                      {
                        "bin_start": -0.02937032792996086,
                        "bin_end": 0.08394154246778895,
                        "count": 0
                      },
                      {
                        "bin_start": 0.08394154246778895,
                        "bin_end": 0.19725341286553877,
                        "count": 0
                      },
                      {
                        "bin_start": 0.19725341286553877,
                        "bin_end": 0.3105652832632886,
                        "count": 1
                      }
                    ]
                  }
                },
                {
                  "name": "pca_8",
                  "dtype": "float64",
                  "stats": {
                    "unique_count": 5,
                    "nan_count": 0,
                    "min": "-0.2931728640483972",
                    "max": "0.46752330685452576",
                    "histogram": [
                      {
                        "bin_start": -0.2931728640483972,
                        "bin_end": -0.2171032469581049,
                        "count": 2
                      },
                      {
                        "bin_start": -0.2171032469581049,
                        "bin_end": -0.14103362986781262,
                        "count": 0
                      },
                      {
                        "bin_start": -0.14103362986781262,
                        "bin_end": -0.06496401277752034,
                        "count": 0
                      },
                      {
                        "bin_start": -0.06496401277752034,
                        "bin_end": 0.011105604312771966,
                        "count": 0
                      },
                      {
                        "bin_start": 0.011105604312771966,
                        "bin_end": 0.08717522140306427,
                        "count": 0
                      },
                      {
                        "bin_start": 0.08717522140306427,
                        "bin_end": 0.16324483849335653,
                        "count": 0
                      },
                      {
                        "bin_start": 0.16324483849335653,
                        "bin_end": 0.2393144555836489,
                        "count": 1
                      },
                      {
                        "bin_start": 0.2393144555836489,
                        "bin_end": 0.31538407267394114,
                        "count": 0
                      },
                      {
                        "bin_start": 0.31538407267394114,
                        "bin_end": 0.3914536897642334,
                        "count": 1
                      },
                      {
                        "bin_start": 0.3914536897642334,
                        "bin_end": 0.46752330685452576,
                        "count": 1
                      }
                    ]
                  }
                },
                {
                  "name": "pca_9",
                  "dtype": "float64",
                  "stats": {
                    "unique_count": 5,
                    "nan_count": 0,
                    "min": "-0.9031344768602475",
                    "max": "0.549986647339284",
                    "histogram": [
                      {
                        "bin_start": -0.9031344768602475,
                        "bin_end": -0.7578223644402944,
                        "count": 1
                      },
                      {
                        "bin_start": -0.7578223644402944,
                        "bin_end": -0.6125102520203412,
                        "count": 0
                      },
                      {
                        "bin_start": -0.6125102520203412,
                        "bin_end": -0.46719813960038803,
                        "count": 0
                      },
                      {
                        "bin_start": -0.46719813960038803,
                        "bin_end": -0.3218860271804349,
                        "count": 0
                      },
                      {
                        "bin_start": -0.3218860271804349,
                        "bin_end": -0.1765739147604818,
                        "count": 0
                      },
                      {
                        "bin_start": -0.1765739147604818,
                        "bin_end": -0.031261802340528555,
                        "count": 0
                      },
                      {
                        "bin_start": -0.031261802340528555,
                        "bin_end": 0.11405031007942446,
                        "count": 1
                      },
                      {
                        "bin_start": 0.11405031007942446,
                        "bin_end": 0.2593624224993777,
                        "count": 0
                      },
                      {
                        "bin_start": 0.2593624224993777,
                        "bin_end": 0.4046745349193309,
                        "count": 1
                      },
                      {
                        "bin_start": 0.4046745349193309,
                        "bin_end": 0.549986647339284,
                        "count": 2
                      }
                    ]
                  }
                },
                {
                  "name": "pca_10",
                  "dtype": "float64",
                  "stats": {
                    "unique_count": 5,
                    "nan_count": 0,
                    "min": "-0.2917991580932066",
                    "max": "0.446210420311016",
                    "histogram": [
                      {
                        "bin_start": -0.2917991580932066,
                        "bin_end": -0.21799820025278435,
                        "count": 1
                      },
                      {
                        "bin_start": -0.21799820025278435,
                        "bin_end": -0.1441972424123621,
                        "count": 2
                      },
                      {
                        "bin_start": -0.1441972424123621,
                        "bin_end": -0.07039628457193983,
                        "count": 0
                      },
                      {
                        "bin_start": -0.07039628457193983,
                        "bin_end": 0.0034046732684824277,
                        "count": 0
                      },
                      {
                        "bin_start": 0.0034046732684824277,
                        "bin_end": 0.07720563110890472,
                        "count": 0
                      },
                      {
                        "bin_start": 0.07720563110890472,
                        "bin_end": 0.15100658894932695,
                        "count": 1
                      },
                      {
                        "bin_start": 0.15100658894932695,
                        "bin_end": 0.22480754678974918,
                        "count": 0
                      },
                      {
                        "bin_start": 0.22480754678974918,
                        "bin_end": 0.29860850463017147,
                        "count": 0
                      },
                      {
                        "bin_start": 0.29860850463017147,
                        "bin_end": 0.37240946247059376,
                        "count": 0
                      },
                      {
                        "bin_start": 0.37240946247059376,
                        "bin_end": 0.446210420311016,
                        "count": 1
                      }
                    ]
                  }
                },
                {
                  "name": "pca_11",
                  "dtype": "float64",
                  "stats": {
                    "unique_count": 5,
                    "nan_count": 0,
                    "min": "-0.520229407050125",
                    "max": "0.22896272315747923",
                    "histogram": [
                      {
                        "bin_start": -0.520229407050125,
                        "bin_end": -0.44531019402936456,
                        "count": 1
                      },
                      {
                        "bin_start": -0.44531019402936456,
                        "bin_end": -0.3703909810086041,
                        "count": 0
                      },
                      {
                        "bin_start": -0.3703909810086041,
                        "bin_end": -0.29547176798784375,
                        "count": 0
                      },
                      {
                        "bin_start": -0.29547176798784375,
                        "bin_end": -0.22055255496708331,
                        "count": 0
                      },
                      {
                        "bin_start": -0.22055255496708331,
                        "bin_end": -0.14563334194632288,
                        "count": 0
                      },
                      {
                        "bin_start": -0.14563334194632288,
                        "bin_end": -0.0707141289255625,
                        "count": 0
                      },
                      {
                        "bin_start": -0.0707141289255625,
                        "bin_end": 0.004205084095197931,
                        "count": 2
                      },
                      {
                        "bin_start": 0.004205084095197931,
                        "bin_end": 0.07912429711595836,
                        "count": 1
                      },
                      {
                        "bin_start": 0.07912429711595836,
                        "bin_end": 0.1540435101367188,
                        "count": 0
                      },
                      {
                        "bin_start": 0.1540435101367188,
                        "bin_end": 0.22896272315747923,
                        "count": 1
                      }
                    ]
                  }
                },
                {
                  "name": "pca_12",
                  "dtype": "float64",
                  "stats": {
                    "unique_count": 5,
                    "nan_count": 0,
                    "min": "-0.4491211200027596",
                    "max": "0.23167227814293825",
                    "histogram": [
                      {
                        "bin_start": -0.4491211200027596,
                        "bin_end": -0.3810417801881898,
                        "count": 1
                      },
                      {
                        "bin_start": -0.3810417801881898,
                        "bin_end": -0.31296244037362003,
                        "count": 0
                      },
                      {
                        "bin_start": -0.31296244037362003,
                        "bin_end": -0.24488310055905024,
                        "count": 0
                      },
                      {
                        "bin_start": -0.24488310055905024,
                        "bin_end": -0.17680376074448045,
                        "count": 0
                      },
                      {
                        "bin_start": -0.17680376074448045,
                        "bin_end": -0.10872442092991064,
                        "count": 1
                      },
                      {
                        "bin_start": -0.10872442092991064,
                        "bin_end": -0.040645081115340875,
                        "count": 0
                      },
                      {
                        "bin_start": -0.040645081115340875,
                        "bin_end": 0.027434258699228886,
                        "count": 0
                      },
                      {
                        "bin_start": 0.027434258699228886,
                        "bin_end": 0.0955135985137987,
                        "count": 1
                      },
                      {
                        "bin_start": 0.0955135985137987,
                        "bin_end": 0.16359293832836852,
                        "count": 1
                      },
                      {
                        "bin_start": 0.16359293832836852,
                        "bin_end": 0.23167227814293825,
                        "count": 1
                      }
                    ]
                  }
                },
                {
                  "name": "_deepnote_index_column",
                  "dtype": "object"
                }
              ],
              "rows_top": [
                {
                  "pca_0": -35.143096787595766,
                  "pca_1": -25.410251887307677,
                  "pca_2": 13.483848983424947,
                  "pca_3": 5.616917211958918,
                  "pca_4": 6.496042623326105,
                  "pca_5": 2.194211907160331,
                  "pca_6": 0.08958951269533555,
                  "pca_7": 0.3105652832632886,
                  "pca_8": 0.36008476991110905,
                  "pca_9": 0.020114922599832646,
                  "pca_10": 0.446210420311016,
                  "pca_11": 0.02922268214910487,
                  "pca_12": -0.4491211200027596,
                  "_deepnote_index_column": "(1990, 18)"
                },
                {
                  "pca_0": -28.56943411679741,
                  "pca_1": -26.375679092132707,
                  "pca_2": -6.651727914000534,
                  "pca_3": 9.830230232721492,
                  "pca_4": 1.255576599188331,
                  "pca_5": -0.49548074957681204,
                  "pca_6": 0.5205456906431337,
                  "pca_7": -0.8225534207142098,
                  "pca_8": -0.25492965028823344,
                  "pca_9": 0.549986647339284,
                  "pca_10": 0.07933943077149565,
                  "pca_11": 0.22896272315747923,
                  "pca_12": -0.13983860607063256,
                  "_deepnote_index_column": "(1990, 19)"
                },
                {
                  "pca_0": -1.7406402397644674,
                  "pca_1": -30.25291934786147,
                  "pca_2": 2.7135253320252914,
                  "pca_3": -14.762533248617958,
                  "pca_4": -1.986829067825997,
                  "pca_5": -3.2342408205229853,
                  "pca_6": 0.5641720756888368,
                  "pca_7": -0.394180091175535,
                  "pca_8": 0.23350915190466154,
                  "pca_9": 0.37920065813033516,
                  "pca_10": -0.2917991580932066,
                  "pca_11": -0.520229407050125,
                  "pca_12": 0.1199349140992491,
                  "_deepnote_index_column": "(1990, 20)"
                },
                {
                  "pca_0": -40.715046558271844,
                  "pca_1": -26.882784167995545,
                  "pca_2": -6.89871826011486,
                  "pca_3": 11.018389571396128,
                  "pca_4": -3.057951786926075,
                  "pca_5": -2.2178492891527193,
                  "pca_6": 1.1072592191289046,
                  "pca_7": -0.6991814389020192,
                  "pca_8": -0.2931728640483972,
                  "pca_9": 0.5310070204509932,
                  "pca_10": -0.17909755259295326,
                  "pca_11": -0.05316522473529334,
                  "pca_12": 0.23167227814293825,
                  "_deepnote_index_column": "(1990, 21)"
                },
                {
                  "pca_0": -50.25646319633792,
                  "pca_1": -22.515284477009796,
                  "pca_2": -3.622647133775387,
                  "pca_3": 6.992659434602168,
                  "pca_4": -5.499619466985883,
                  "pca_5": -1.2157822508852751,
                  "pca_6": 3.4101036721659708,
                  "pca_7": -0.35137909636077047,
                  "pca_8": 0.46752330685452576,
                  "pca_9": -0.9031344768602475,
                  "pca_10": -0.14832284091000103,
                  "pca_11": -0.0001903983456089354,
                  "pca_12": 0.07461795406607041,
                  "_deepnote_index_column": "(1990, 22)"
                }
              ],
              "rows_bottom": null
            },
            "text/plain": "                     pca_0      pca_1      pca_2      pca_3     pca_4  \\\nyear weekofyear                                                         \n1990 18         -35.143097 -25.410252  13.483849   5.616917  6.496043   \n     19         -28.569434 -26.375679  -6.651728   9.830230  1.255577   \n     20          -1.740640 -30.252919   2.713525 -14.762533 -1.986829   \n     21         -40.715047 -26.882784  -6.898718  11.018390 -3.057952   \n     22         -50.256463 -22.515284  -3.622647   6.992659 -5.499619   \n\n                    pca_5     pca_6     pca_7     pca_8     pca_9    pca_10  \\\nyear weekofyear                                                               \n1990 18          2.194212  0.089590  0.310565  0.360085  0.020115  0.446210   \n     19         -0.495481  0.520546 -0.822553 -0.254930  0.549987  0.079339   \n     20         -3.234241  0.564172 -0.394180  0.233509  0.379201 -0.291799   \n     21         -2.217849  1.107259 -0.699181 -0.293173  0.531007 -0.179098   \n     22         -1.215782  3.410104 -0.351379  0.467523 -0.903134 -0.148323   \n\n                   pca_11    pca_12  \nyear weekofyear                      \n1990 18          0.029223 -0.449121  \n     19          0.228963 -0.139839  \n     20         -0.520229  0.119935  \n     21         -0.053165  0.231672  \n     22         -0.000190  0.074618  ",
            "text/html": "<div>\n<style scoped>\n    .dataframe tbody tr th:only-of-type {\n        vertical-align: middle;\n    }\n\n    .dataframe tbody tr th {\n        vertical-align: top;\n    }\n\n    .dataframe thead th {\n        text-align: right;\n    }\n</style>\n<table border=\"1\" class=\"dataframe\">\n  <thead>\n    <tr style=\"text-align: right;\">\n      <th></th>\n      <th></th>\n      <th>pca_0</th>\n      <th>pca_1</th>\n      <th>pca_2</th>\n      <th>pca_3</th>\n      <th>pca_4</th>\n      <th>pca_5</th>\n      <th>pca_6</th>\n      <th>pca_7</th>\n      <th>pca_8</th>\n      <th>pca_9</th>\n      <th>pca_10</th>\n      <th>pca_11</th>\n      <th>pca_12</th>\n    </tr>\n    <tr>\n      <th>year</th>\n      <th>weekofyear</th>\n      <th></th>\n      <th></th>\n      <th></th>\n      <th></th>\n      <th></th>\n      <th></th>\n      <th></th>\n      <th></th>\n      <th></th>\n      <th></th>\n      <th></th>\n      <th></th>\n      <th></th>\n    </tr>\n  </thead>\n  <tbody>\n    <tr>\n      <th rowspan=\"5\" valign=\"top\">1990</th>\n      <th>18</th>\n      <td>-35.143097</td>\n      <td>-25.410252</td>\n      <td>13.483849</td>\n      <td>5.616917</td>\n      <td>6.496043</td>\n      <td>2.194212</td>\n      <td>0.089590</td>\n      <td>0.310565</td>\n      <td>0.360085</td>\n      <td>0.020115</td>\n      <td>0.446210</td>\n      <td>0.029223</td>\n      <td>-0.449121</td>\n    </tr>\n    <tr>\n      <th>19</th>\n      <td>-28.569434</td>\n      <td>-26.375679</td>\n      <td>-6.651728</td>\n      <td>9.830230</td>\n      <td>1.255577</td>\n      <td>-0.495481</td>\n      <td>0.520546</td>\n      <td>-0.822553</td>\n      <td>-0.254930</td>\n      <td>0.549987</td>\n      <td>0.079339</td>\n      <td>0.228963</td>\n      <td>-0.139839</td>\n    </tr>\n    <tr>\n      <th>20</th>\n      <td>-1.740640</td>\n      <td>-30.252919</td>\n      <td>2.713525</td>\n      <td>-14.762533</td>\n      <td>-1.986829</td>\n      <td>-3.234241</td>\n      <td>0.564172</td>\n      <td>-0.394180</td>\n      <td>0.233509</td>\n      <td>0.379201</td>\n      <td>-0.291799</td>\n      <td>-0.520229</td>\n      <td>0.119935</td>\n    </tr>\n    <tr>\n      <th>21</th>\n      <td>-40.715047</td>\n      <td>-26.882784</td>\n      <td>-6.898718</td>\n      <td>11.018390</td>\n      <td>-3.057952</td>\n      <td>-2.217849</td>\n      <td>1.107259</td>\n      <td>-0.699181</td>\n      <td>-0.293173</td>\n      <td>0.531007</td>\n      <td>-0.179098</td>\n      <td>-0.053165</td>\n      <td>0.231672</td>\n    </tr>\n    <tr>\n      <th>22</th>\n      <td>-50.256463</td>\n      <td>-22.515284</td>\n      <td>-3.622647</td>\n      <td>6.992659</td>\n      <td>-5.499619</td>\n      <td>-1.215782</td>\n      <td>3.410104</td>\n      <td>-0.351379</td>\n      <td>0.467523</td>\n      <td>-0.903134</td>\n      <td>-0.148323</td>\n      <td>-0.000190</td>\n      <td>0.074618</td>\n    </tr>\n  </tbody>\n</table>\n</div>"
          },
          "metadata": {}
        }
      ],
      "execution_count": null
    },
    {
      "cell_type": "code",
      "metadata": {
        "tags": [],
        "cell_id": "00052-a7d04586-0677-44ee-8ae8-fb9baf97afde",
        "deepnote_to_be_reexecuted": false,
        "source_hash": "26ad196e",
        "execution_start": 1619635653626,
        "execution_millis": 1,
        "deepnote_cell_type": "code"
      },
      "source": "#We concat the features with pca and the column total cases we want to predict \ndf_pca_all=pd.concat([df_pca,sj_train_labels],axis=1)",
      "outputs": [],
      "execution_count": null
    },
    {
      "cell_type": "code",
      "metadata": {
        "tags": [],
        "cell_id": "00052-81673339-de6b-4ebe-9f2c-1c3e7b19331b",
        "deepnote_to_be_reexecuted": false,
        "source_hash": "41327e1a",
        "execution_start": 1619635747179,
        "execution_millis": 38918,
        "deepnote_cell_type": "code"
      },
      "source": "# We fit the RNN on the pca dataset \n#look at the mae\ntemp2 = run_lstm_mae(df_pca_all, 'Dataframe_pca', 'San Juan, Puerto Rico', 1, 14, 4, .87, .5, 100)",
      "outputs": [
        {
          "name": "stdout",
          "text": "Dataset name: Dataframe_pca\nLookback window periods: 4\nTraining proportion: 0.87\nDropout proportion: 0.5\nlast epoch loss: 0.014576492831110954\nlast epoch val_loss: 0.011429072357714176\n",
          "output_type": "stream"
        },
        {
          "data": {
            "text/plain": "<Figure size 1440x720 with 1 Axes>",
            "image/png": "[encoded data removed]"
          },
          "metadata": {
            "needs_background": "light",
            "image/png": {
              "width": 1183,
              "height": 622
            }
          },
          "output_type": "display_data"
        }
      ],
      "execution_count": null
    },
    {
      "cell_type": "code",
      "metadata": {
        "tags": [],
        "cell_id": "00053-2d446dcb-4a55-4db7-ace1-724f845ce7f0",
        "deepnote_to_be_reexecuted": false,
        "source_hash": "27a722a9",
        "execution_start": 1619635692988,
        "execution_millis": 17,
        "deepnote_cell_type": "code"
      },
      "source": "#Score MAE with the pca \nprint(temp2)\n\n#Score without the pca and with only 4 features : 0.012\n#The mae score is better without the pca \n\nprint(temp)",
      "outputs": [
        {
          "name": "stdout",
          "text": "0.013413529843091965\n",
          "output_type": "stream"
        }
      ],
      "execution_count": null
    },
    {
      "cell_type": "markdown",
      "source": "<a style='text-decoration:none;line-height:16px;display:flex;color:#5B5B62;padding:10px;justify-content:end;' href='https://deepnote.com?utm_source=created-in-deepnote-cell&projectId=2e9239e8-0551-4959-8264-1b8c41e681a8' target=\"_blank\">\n<img alt='Created in deepnote.com' style='display:inline;max-height:16px;margin:0px;margin-right:7.5px;' src='data:image/svg+xml;base64,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' > </img>\nCreated in <span style='font-weight:600;margin-left:4px;'>Deepnote</span></a>",
      "metadata": {
        "tags": [],
        "created_in_deepnote_cell": true,
        "deepnote_cell_type": "markdown"
      }
    }
  ],
  "nbformat": 4,
  "nbformat_minor": 2,
  "metadata": {
    "orig_nbformat": 2,
    "deepnote": {
      "is_reactive": false
    },
    "deepnote_notebook_id": "ea10b12f-cc40-47e0-9e38-7aa122c31835",
    "deepnote_execution_queue": []
  }
}